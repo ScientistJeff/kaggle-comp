{
 "metadata": {
  "name": "",
  "signature": "sha256:530fd558b5fd2681222fd890a83d25cdd4624319d5637518f127978720bf80ab"
 },
 "nbformat": 3,
 "nbformat_minor": 0,
 "worksheets": [
  {
   "cells": [
    {
     "cell_type": "code",
     "collapsed": false,
     "input": [
      "from sklearn.base import BaseEstimator\n",
      "import pandas as pd\n",
      "import XGBoost\n",
      "\n",
      "class ColumnDropper(BaseEstimator):\n",
      "    #Drop listed Columns\n",
      "    def __init__(self, drop=[]):\n",
      "        self.drop = drop\n",
      "    \n",
      "    def fit(self, X, y=None):\n",
      "        return self\n",
      "    \n",
      "    def transform(self, X):\n",
      "        return X.drop(self.drop, axis=1)\n",
      "    \n",
      "class ColDropperByVar(ColumnDropper):\n",
      "    #Drop cols by variance\n",
      "    def __init__(self, var_threshold):\n",
      "        self.variance_threshold = variance_threshold\n",
      "        super(ColDropperByVar, self).__init__()\n",
      "        \n",
      "    def fit(self, X, y=None):\n",
      "        for col in X.columns:\n",
      "            if X[col].var() <= self.variance_threshold:\n",
      "                self.drop.append(col)\n",
      "                \n",
      "class ColDropperByCorr(ColumnDropper):\n",
      "    #drop correlated cols\n",
      "    def __init__(self, correlation_threshold):\n",
      "        self.correlation_threshold = correlation_threshold\n",
      "        super(ColumnDropperByCorr, self).__init__()\n",
      "\n",
      "    def fit(self, X, y=None):\n",
      "        corr = X.corr().abs()\n",
      "        for i in range(corr.shape[0]-1):\n",
      "            for j in range(i+1, corr.shape[1]):\n",
      "                if corr.values[i, j] >= self.correlation_threshold and corr.columns[j] not in self.drop:\n",
      "                    self.drop.append(corr.columns[j])"
     ],
     "language": "python",
     "metadata": {},
     "outputs": []
    },
    {
     "cell_type": "code",
     "collapsed": false,
     "input": [],
     "language": "python",
     "metadata": {},
     "outputs": []
    }
   ],
   "metadata": {}
  }
 ]
}