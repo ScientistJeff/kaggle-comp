{
 "cells": [
  {
   "cell_type": "code",
   "execution_count": 27,
   "metadata": {
    "collapsed": false
   },
   "outputs": [],
   "source": [
    "import pandas as pd\n",
    "import numpy as np\n",
    "from sklearn import preprocessing\n",
    "from sklearn import cross_validation\n",
    "from sklearn import datasets\n",
    "from sklearn import svm\n",
    "from sklearn.ensemble import RandomForestClassifier\n",
    "from sklearn.metrics import roc_auc_score\n",
    "import xgboost as xbg\n",
    "from sklearn.grid_search import GridSearchCV\n",
    "from time import time\n",
    "from operator import itemgetter"
   ]
  },
  {
   "cell_type": "code",
   "execution_count": 2,
   "metadata": {
    "collapsed": true
   },
   "outputs": [],
   "source": [
    "infile = pd.read_csv(\"../DataDir/sant-train.csv\")\n",
    "\n",
    "infile.columns.values\n",
    "infile.TARGET.value_counts()\n",
    "\n",
    "colcard = list()\n",
    "\n",
    "for i in xrange(len(infile.columns)):\n",
    "    colcard.append(len(infile.iloc[:,i].value_counts()))"
   ]
  },
  {
   "cell_type": "code",
   "execution_count": 3,
   "metadata": {
    "collapsed": false
   },
   "outputs": [
    {
     "data": {
      "text/plain": [
       "229"
      ]
     },
     "execution_count": 3,
     "metadata": {},
     "output_type": "execute_result"
    }
   ],
   "source": [
    "colnz = infile.astype(bool).sum(axis=0)\n",
    "len(colnz[colnz>50])\n",
    "#infile['saldo_medio_var13_medio_hace3'].describe()"
   ]
  },
  {
   "cell_type": "code",
   "execution_count": 5,
   "metadata": {
    "collapsed": false
   },
   "outputs": [
    {
     "data": {
      "text/plain": [
       "((53214, 370), (53214,))"
      ]
     },
     "execution_count": 5,
     "metadata": {},
     "output_type": "execute_result"
    }
   ],
   "source": [
    "trainfeat = infile.drop(['TARGET'], axis=1)\n",
    "trainlab = infile['TARGET']\n",
    "\n",
    "X_train, X_test, y_train, y_test = cross_validation.train_test_split(trainfeat, trainlab, test_size=0.30, random_state=777)\n",
    "\n",
    "X_train.shape, y_train.shape\n",
    "\n",
    "#X_test.shape, y_test.shape"
   ]
  },
  {
   "cell_type": "code",
   "execution_count": 11,
   "metadata": {
    "collapsed": false
   },
   "outputs": [],
   "source": [
    "clf = RandomForestClassifier(n_estimators=500,n_jobs=4,)\n",
    "newfit = clf.fit(X_train,y_train)\n",
    "#clf.score(X_test, y_test, scoring=\"roc_auc\")"
   ]
  },
  {
   "cell_type": "code",
   "execution_count": 30,
   "metadata": {
    "collapsed": true
   },
   "outputs": [],
   "source": [
    "def report(grid_scores, n_top=3):\n",
    "    top_scores = sorted(grid_scores, key=itemgetter(1), reverse=True)[:n_top]\n",
    "    for i, score in enumerate(top_scores):\n",
    "        print(\"Model with rank: {0}\".format(i + 1))\n",
    "        print(\"Mean validation score: {0:.3f} (std: {1:.3f})\".format(\n",
    "              score.mean_validation_score,\n",
    "              np.std(score.cv_validation_scores)))\n",
    "        print(\"Parameters: {0}\".format(score.parameters))\n",
    "        print(\"\")"
   ]
  },
  {
   "cell_type": "code",
   "execution_count": 31,
   "metadata": {
    "collapsed": false
   },
   "outputs": [
    {
     "name": "stderr",
     "output_type": "stream",
     "text": [
      "/Users/jeff/.local/lib/python2.7/site-packages/sklearn/utils/__init__.py:157: DataConversionWarning: Copying input dataframe for slicing.\n",
      "  DataConversionWarning)\n",
      "/Users/jeff/.local/lib/python2.7/site-packages/sklearn/utils/__init__.py:157: DataConversionWarning: Copying input dataframe for slicing.\n",
      "  DataConversionWarning)\n",
      "/Users/jeff/.local/lib/python2.7/site-packages/sklearn/utils/__init__.py:157: DataConversionWarning: Copying input dataframe for slicing.\n",
      "  DataConversionWarning)\n",
      "/Users/jeff/.local/lib/python2.7/site-packages/sklearn/utils/__init__.py:157: DataConversionWarning: Copying input dataframe for slicing.\n",
      "  DataConversionWarning)\n",
      "/Users/jeff/.local/lib/python2.7/site-packages/sklearn/utils/__init__.py:157: DataConversionWarning: Copying input dataframe for slicing.\n",
      "  DataConversionWarning)\n",
      "/Users/jeff/.local/lib/python2.7/site-packages/sklearn/utils/__init__.py:157: DataConversionWarning: Copying input dataframe for slicing.\n",
      "  DataConversionWarning)\n",
      "/Users/jeff/.local/lib/python2.7/site-packages/sklearn/utils/__init__.py:157: DataConversionWarning: Copying input dataframe for slicing.\n",
      "  DataConversionWarning)\n",
      "/Users/jeff/.local/lib/python2.7/site-packages/sklearn/utils/__init__.py:157: DataConversionWarning: Copying input dataframe for slicing.\n",
      "  DataConversionWarning)\n",
      "/Users/jeff/.local/lib/python2.7/site-packages/sklearn/utils/__init__.py:157: DataConversionWarning: Copying input dataframe for slicing.\n",
      "  DataConversionWarning)\n",
      "/Users/jeff/.local/lib/python2.7/site-packages/sklearn/utils/__init__.py:157: DataConversionWarning: Copying input dataframe for slicing.\n",
      "  DataConversionWarning)\n",
      "/Users/jeff/.local/lib/python2.7/site-packages/sklearn/utils/__init__.py:157: DataConversionWarning: Copying input dataframe for slicing.\n",
      "  DataConversionWarning)\n",
      "/Users/jeff/.local/lib/python2.7/site-packages/sklearn/utils/__init__.py:157: DataConversionWarning: Copying input dataframe for slicing.\n",
      "  DataConversionWarning)\n",
      "/Users/jeff/.local/lib/python2.7/site-packages/sklearn/utils/__init__.py:157: DataConversionWarning: Copying input dataframe for slicing.\n",
      "  DataConversionWarning)\n",
      "/Users/jeff/.local/lib/python2.7/site-packages/sklearn/utils/__init__.py:157: DataConversionWarning: Copying input dataframe for slicing.\n",
      "  DataConversionWarning)\n",
      "/Users/jeff/.local/lib/python2.7/site-packages/sklearn/utils/__init__.py:157: DataConversionWarning: Copying input dataframe for slicing.\n",
      "  DataConversionWarning)\n",
      "/Users/jeff/.local/lib/python2.7/site-packages/sklearn/utils/__init__.py:157: DataConversionWarning: Copying input dataframe for slicing.\n",
      "  DataConversionWarning)\n",
      "/Users/jeff/.local/lib/python2.7/site-packages/sklearn/utils/__init__.py:157: DataConversionWarning: Copying input dataframe for slicing.\n",
      "  DataConversionWarning)\n",
      "/Users/jeff/.local/lib/python2.7/site-packages/sklearn/utils/__init__.py:157: DataConversionWarning: Copying input dataframe for slicing.\n",
      "  DataConversionWarning)\n",
      "/Users/jeff/.local/lib/python2.7/site-packages/sklearn/utils/__init__.py:157: DataConversionWarning: Copying input dataframe for slicing.\n",
      "  DataConversionWarning)\n",
      "/Users/jeff/.local/lib/python2.7/site-packages/sklearn/utils/__init__.py:157: DataConversionWarning: Copying input dataframe for slicing.\n",
      "  DataConversionWarning)\n",
      "/Users/jeff/.local/lib/python2.7/site-packages/sklearn/utils/__init__.py:157: DataConversionWarning: Copying input dataframe for slicing.\n",
      "  DataConversionWarning)\n",
      "/Users/jeff/.local/lib/python2.7/site-packages/sklearn/utils/__init__.py:157: DataConversionWarning: Copying input dataframe for slicing.\n",
      "  DataConversionWarning)\n",
      "/Users/jeff/.local/lib/python2.7/site-packages/sklearn/utils/__init__.py:157: DataConversionWarning: Copying input dataframe for slicing.\n",
      "  DataConversionWarning)\n",
      "/Users/jeff/.local/lib/python2.7/site-packages/sklearn/utils/__init__.py:157: DataConversionWarning: Copying input dataframe for slicing.\n",
      "  DataConversionWarning)\n",
      "/Users/jeff/.local/lib/python2.7/site-packages/sklearn/utils/__init__.py:157: DataConversionWarning: Copying input dataframe for slicing.\n",
      "  DataConversionWarning)\n",
      "/Users/jeff/.local/lib/python2.7/site-packages/sklearn/utils/__init__.py:157: DataConversionWarning: Copying input dataframe for slicing.\n",
      "  DataConversionWarning)\n",
      "/Users/jeff/.local/lib/python2.7/site-packages/sklearn/utils/__init__.py:157: DataConversionWarning: Copying input dataframe for slicing.\n",
      "  DataConversionWarning)\n",
      "/Users/jeff/.local/lib/python2.7/site-packages/sklearn/utils/__init__.py:157: DataConversionWarning: Copying input dataframe for slicing.\n",
      "  DataConversionWarning)\n",
      "/Users/jeff/.local/lib/python2.7/site-packages/sklearn/utils/__init__.py:157: DataConversionWarning: Copying input dataframe for slicing.\n",
      "  DataConversionWarning)\n",
      "/Users/jeff/.local/lib/python2.7/site-packages/sklearn/utils/__init__.py:157: DataConversionWarning: Copying input dataframe for slicing.\n",
      "  DataConversionWarning)\n",
      "/Users/jeff/.local/lib/python2.7/site-packages/sklearn/utils/__init__.py:157: DataConversionWarning: Copying input dataframe for slicing.\n",
      "  DataConversionWarning)\n",
      "/Users/jeff/.local/lib/python2.7/site-packages/sklearn/utils/__init__.py:157: DataConversionWarning: Copying input dataframe for slicing.\n",
      "  DataConversionWarning)\n",
      "/Users/jeff/.local/lib/python2.7/site-packages/sklearn/utils/__init__.py:157: DataConversionWarning: Copying input dataframe for slicing.\n",
      "  DataConversionWarning)\n",
      "/Users/jeff/.local/lib/python2.7/site-packages/sklearn/utils/__init__.py:157: DataConversionWarning: Copying input dataframe for slicing.\n",
      "  DataConversionWarning)\n",
      "/Users/jeff/.local/lib/python2.7/site-packages/sklearn/utils/__init__.py:157: DataConversionWarning: Copying input dataframe for slicing.\n",
      "  DataConversionWarning)\n",
      "/Users/jeff/.local/lib/python2.7/site-packages/sklearn/utils/__init__.py:157: DataConversionWarning: Copying input dataframe for slicing.\n",
      "  DataConversionWarning)\n",
      "/Users/jeff/.local/lib/python2.7/site-packages/sklearn/utils/__init__.py:157: DataConversionWarning: Copying input dataframe for slicing.\n",
      "  DataConversionWarning)\n",
      "/Users/jeff/.local/lib/python2.7/site-packages/sklearn/utils/__init__.py:157: DataConversionWarning: Copying input dataframe for slicing.\n",
      "  DataConversionWarning)\n",
      "/Users/jeff/.local/lib/python2.7/site-packages/sklearn/utils/__init__.py:157: DataConversionWarning: Copying input dataframe for slicing.\n",
      "  DataConversionWarning)\n",
      "/Users/jeff/.local/lib/python2.7/site-packages/sklearn/utils/__init__.py:157: DataConversionWarning: Copying input dataframe for slicing.\n",
      "  DataConversionWarning)\n",
      "/Users/jeff/.local/lib/python2.7/site-packages/sklearn/utils/__init__.py:157: DataConversionWarning: Copying input dataframe for slicing.\n",
      "  DataConversionWarning)\n",
      "/Users/jeff/.local/lib/python2.7/site-packages/sklearn/utils/__init__.py:157: DataConversionWarning: Copying input dataframe for slicing.\n",
      "  DataConversionWarning)\n",
      "/Users/jeff/.local/lib/python2.7/site-packages/sklearn/utils/__init__.py:157: DataConversionWarning: Copying input dataframe for slicing.\n",
      "  DataConversionWarning)\n",
      "/Users/jeff/.local/lib/python2.7/site-packages/sklearn/utils/__init__.py:157: DataConversionWarning: Copying input dataframe for slicing.\n",
      "  DataConversionWarning)\n",
      "/Users/jeff/.local/lib/python2.7/site-packages/sklearn/utils/__init__.py:157: DataConversionWarning: Copying input dataframe for slicing.\n",
      "  DataConversionWarning)\n",
      "/Users/jeff/.local/lib/python2.7/site-packages/sklearn/utils/__init__.py:157: DataConversionWarning: Copying input dataframe for slicing.\n",
      "  DataConversionWarning)\n",
      "/Users/jeff/.local/lib/python2.7/site-packages/sklearn/utils/__init__.py:157: DataConversionWarning: Copying input dataframe for slicing.\n",
      "  DataConversionWarning)\n",
      "/Users/jeff/.local/lib/python2.7/site-packages/sklearn/utils/__init__.py:157: DataConversionWarning: Copying input dataframe for slicing.\n",
      "  DataConversionWarning)\n",
      "/Users/jeff/.local/lib/python2.7/site-packages/sklearn/utils/__init__.py:157: DataConversionWarning: Copying input dataframe for slicing.\n",
      "  DataConversionWarning)\n",
      "/Users/jeff/.local/lib/python2.7/site-packages/sklearn/utils/__init__.py:157: DataConversionWarning: Copying input dataframe for slicing.\n",
      "  DataConversionWarning)\n",
      "/Users/jeff/.local/lib/python2.7/site-packages/sklearn/utils/__init__.py:157: DataConversionWarning: Copying input dataframe for slicing.\n",
      "  DataConversionWarning)\n",
      "/Users/jeff/.local/lib/python2.7/site-packages/sklearn/utils/__init__.py:157: DataConversionWarning: Copying input dataframe for slicing.\n",
      "  DataConversionWarning)\n",
      "/Users/jeff/.local/lib/python2.7/site-packages/sklearn/utils/__init__.py:157: DataConversionWarning: Copying input dataframe for slicing.\n",
      "  DataConversionWarning)\n",
      "/Users/jeff/.local/lib/python2.7/site-packages/sklearn/utils/__init__.py:157: DataConversionWarning: Copying input dataframe for slicing.\n",
      "  DataConversionWarning)\n",
      "/Users/jeff/.local/lib/python2.7/site-packages/sklearn/utils/__init__.py:157: DataConversionWarning: Copying input dataframe for slicing.\n",
      "  DataConversionWarning)\n",
      "/Users/jeff/.local/lib/python2.7/site-packages/sklearn/utils/__init__.py:157: DataConversionWarning: Copying input dataframe for slicing.\n",
      "  DataConversionWarning)\n",
      "/Users/jeff/.local/lib/python2.7/site-packages/sklearn/utils/__init__.py:157: DataConversionWarning: Copying input dataframe for slicing.\n",
      "  DataConversionWarning)\n",
      "/Users/jeff/.local/lib/python2.7/site-packages/sklearn/utils/__init__.py:157: DataConversionWarning: Copying input dataframe for slicing.\n",
      "  DataConversionWarning)\n",
      "/Users/jeff/.local/lib/python2.7/site-packages/sklearn/utils/__init__.py:157: DataConversionWarning: Copying input dataframe for slicing.\n",
      "  DataConversionWarning)\n",
      "/Users/jeff/.local/lib/python2.7/site-packages/sklearn/utils/__init__.py:157: DataConversionWarning: Copying input dataframe for slicing.\n",
      "  DataConversionWarning)\n",
      "/Users/jeff/.local/lib/python2.7/site-packages/sklearn/utils/__init__.py:157: DataConversionWarning: Copying input dataframe for slicing.\n",
      "  DataConversionWarning)\n",
      "/Users/jeff/.local/lib/python2.7/site-packages/sklearn/utils/__init__.py:157: DataConversionWarning: Copying input dataframe for slicing.\n",
      "  DataConversionWarning)\n",
      "/Users/jeff/.local/lib/python2.7/site-packages/sklearn/utils/__init__.py:157: DataConversionWarning: Copying input dataframe for slicing.\n",
      "  DataConversionWarning)\n",
      "/Users/jeff/.local/lib/python2.7/site-packages/sklearn/utils/__init__.py:157: DataConversionWarning: Copying input dataframe for slicing.\n",
      "  DataConversionWarning)\n",
      "/Users/jeff/.local/lib/python2.7/site-packages/sklearn/utils/__init__.py:157: DataConversionWarning: Copying input dataframe for slicing.\n",
      "  DataConversionWarning)\n",
      "/Users/jeff/.local/lib/python2.7/site-packages/sklearn/utils/__init__.py:157: DataConversionWarning: Copying input dataframe for slicing.\n",
      "  DataConversionWarning)\n",
      "/Users/jeff/.local/lib/python2.7/site-packages/sklearn/utils/__init__.py:157: DataConversionWarning: Copying input dataframe for slicing.\n",
      "  DataConversionWarning)\n",
      "/Users/jeff/.local/lib/python2.7/site-packages/sklearn/utils/__init__.py:157: DataConversionWarning: Copying input dataframe for slicing.\n",
      "  DataConversionWarning)\n",
      "/Users/jeff/.local/lib/python2.7/site-packages/sklearn/utils/__init__.py:157: DataConversionWarning: Copying input dataframe for slicing.\n",
      "  DataConversionWarning)\n",
      "/Users/jeff/.local/lib/python2.7/site-packages/sklearn/utils/__init__.py:157: DataConversionWarning: Copying input dataframe for slicing.\n",
      "  DataConversionWarning)\n",
      "/Users/jeff/.local/lib/python2.7/site-packages/sklearn/utils/__init__.py:157: DataConversionWarning: Copying input dataframe for slicing.\n",
      "  DataConversionWarning)\n",
      "/Users/jeff/.local/lib/python2.7/site-packages/sklearn/utils/__init__.py:157: DataConversionWarning: Copying input dataframe for slicing.\n",
      "  DataConversionWarning)\n",
      "/Users/jeff/.local/lib/python2.7/site-packages/sklearn/utils/__init__.py:157: DataConversionWarning: Copying input dataframe for slicing.\n",
      "  DataConversionWarning)\n",
      "/Users/jeff/.local/lib/python2.7/site-packages/sklearn/utils/__init__.py:157: DataConversionWarning: Copying input dataframe for slicing.\n",
      "  DataConversionWarning)\n",
      "/Users/jeff/.local/lib/python2.7/site-packages/sklearn/utils/__init__.py:157: DataConversionWarning: Copying input dataframe for slicing.\n",
      "  DataConversionWarning)\n",
      "/Users/jeff/.local/lib/python2.7/site-packages/sklearn/utils/__init__.py:157: DataConversionWarning: Copying input dataframe for slicing.\n",
      "  DataConversionWarning)\n",
      "/Users/jeff/.local/lib/python2.7/site-packages/sklearn/utils/__init__.py:157: DataConversionWarning: Copying input dataframe for slicing.\n",
      "  DataConversionWarning)\n",
      "/Users/jeff/.local/lib/python2.7/site-packages/sklearn/utils/__init__.py:157: DataConversionWarning: Copying input dataframe for slicing.\n",
      "  DataConversionWarning)\n",
      "/Users/jeff/.local/lib/python2.7/site-packages/sklearn/utils/__init__.py:157: DataConversionWarning: Copying input dataframe for slicing.\n",
      "  DataConversionWarning)\n",
      "/Users/jeff/.local/lib/python2.7/site-packages/sklearn/utils/__init__.py:157: DataConversionWarning: Copying input dataframe for slicing.\n",
      "  DataConversionWarning)\n",
      "/Users/jeff/.local/lib/python2.7/site-packages/sklearn/utils/__init__.py:157: DataConversionWarning: Copying input dataframe for slicing.\n",
      "  DataConversionWarning)\n",
      "/Users/jeff/.local/lib/python2.7/site-packages/sklearn/utils/__init__.py:157: DataConversionWarning: Copying input dataframe for slicing.\n",
      "  DataConversionWarning)\n",
      "/Users/jeff/.local/lib/python2.7/site-packages/sklearn/utils/__init__.py:157: DataConversionWarning: Copying input dataframe for slicing.\n",
      "  DataConversionWarning)\n",
      "/Users/jeff/.local/lib/python2.7/site-packages/sklearn/utils/__init__.py:157: DataConversionWarning: Copying input dataframe for slicing.\n",
      "  DataConversionWarning)\n",
      "/Users/jeff/.local/lib/python2.7/site-packages/sklearn/utils/__init__.py:157: DataConversionWarning: Copying input dataframe for slicing.\n",
      "  DataConversionWarning)\n",
      "/Users/jeff/.local/lib/python2.7/site-packages/sklearn/utils/__init__.py:157: DataConversionWarning: Copying input dataframe for slicing.\n",
      "  DataConversionWarning)\n",
      "/Users/jeff/.local/lib/python2.7/site-packages/sklearn/utils/__init__.py:157: DataConversionWarning: Copying input dataframe for slicing.\n",
      "  DataConversionWarning)\n",
      "/Users/jeff/.local/lib/python2.7/site-packages/sklearn/utils/__init__.py:157: DataConversionWarning: Copying input dataframe for slicing.\n",
      "  DataConversionWarning)\n",
      "/Users/jeff/.local/lib/python2.7/site-packages/sklearn/utils/__init__.py:157: DataConversionWarning: Copying input dataframe for slicing.\n",
      "  DataConversionWarning)\n",
      "/Users/jeff/.local/lib/python2.7/site-packages/sklearn/utils/__init__.py:157: DataConversionWarning: Copying input dataframe for slicing.\n",
      "  DataConversionWarning)\n",
      "/Users/jeff/.local/lib/python2.7/site-packages/sklearn/utils/__init__.py:157: DataConversionWarning: Copying input dataframe for slicing.\n",
      "  DataConversionWarning)\n",
      "/Users/jeff/.local/lib/python2.7/site-packages/sklearn/utils/__init__.py:157: DataConversionWarning: Copying input dataframe for slicing.\n",
      "  DataConversionWarning)\n",
      "/Users/jeff/.local/lib/python2.7/site-packages/sklearn/utils/__init__.py:157: DataConversionWarning: Copying input dataframe for slicing.\n",
      "  DataConversionWarning)\n",
      "/Users/jeff/.local/lib/python2.7/site-packages/sklearn/utils/__init__.py:157: DataConversionWarning: Copying input dataframe for slicing.\n",
      "  DataConversionWarning)\n",
      "/Users/jeff/.local/lib/python2.7/site-packages/sklearn/utils/__init__.py:157: DataConversionWarning: Copying input dataframe for slicing.\n",
      "  DataConversionWarning)\n",
      "/Users/jeff/.local/lib/python2.7/site-packages/sklearn/utils/__init__.py:157: DataConversionWarning: Copying input dataframe for slicing.\n",
      "  DataConversionWarning)\n",
      "/Users/jeff/.local/lib/python2.7/site-packages/sklearn/utils/__init__.py:157: DataConversionWarning: Copying input dataframe for slicing.\n",
      "  DataConversionWarning)\n",
      "/Users/jeff/.local/lib/python2.7/site-packages/sklearn/utils/__init__.py:157: DataConversionWarning: Copying input dataframe for slicing.\n",
      "  DataConversionWarning)\n",
      "/Users/jeff/.local/lib/python2.7/site-packages/sklearn/utils/__init__.py:157: DataConversionWarning: Copying input dataframe for slicing.\n",
      "  DataConversionWarning)\n",
      "/Users/jeff/.local/lib/python2.7/site-packages/sklearn/utils/__init__.py:157: DataConversionWarning: Copying input dataframe for slicing.\n",
      "  DataConversionWarning)\n",
      "/Users/jeff/.local/lib/python2.7/site-packages/sklearn/utils/__init__.py:157: DataConversionWarning: Copying input dataframe for slicing.\n",
      "  DataConversionWarning)\n",
      "/Users/jeff/.local/lib/python2.7/site-packages/sklearn/utils/__init__.py:157: DataConversionWarning: Copying input dataframe for slicing.\n",
      "  DataConversionWarning)\n",
      "/Users/jeff/.local/lib/python2.7/site-packages/sklearn/utils/__init__.py:157: DataConversionWarning: Copying input dataframe for slicing.\n",
      "  DataConversionWarning)\n",
      "/Users/jeff/.local/lib/python2.7/site-packages/sklearn/utils/__init__.py:157: DataConversionWarning: Copying input dataframe for slicing.\n",
      "  DataConversionWarning)\n",
      "/Users/jeff/.local/lib/python2.7/site-packages/sklearn/utils/__init__.py:157: DataConversionWarning: Copying input dataframe for slicing.\n",
      "  DataConversionWarning)\n",
      "/Users/jeff/.local/lib/python2.7/site-packages/sklearn/utils/__init__.py:157: DataConversionWarning: Copying input dataframe for slicing.\n",
      "  DataConversionWarning)\n",
      "/Users/jeff/.local/lib/python2.7/site-packages/sklearn/utils/__init__.py:157: DataConversionWarning: Copying input dataframe for slicing.\n",
      "  DataConversionWarning)\n",
      "/Users/jeff/.local/lib/python2.7/site-packages/sklearn/utils/__init__.py:157: DataConversionWarning: Copying input dataframe for slicing.\n",
      "  DataConversionWarning)\n"
     ]
    },
    {
     "name": "stdout",
     "output_type": "stream",
     "text": [
      "GridSearchCV took 711.28 seconds for 18 candidate parameter settings.\n",
      "Model with rank: 1\n",
      "Mean validation score: 0.960 (std: 0.000)\n",
      "Parameters: {'n_estimators': 100, 'criterion': 'gini', 'max_depth': 5}\n",
      "\n",
      "Model with rank: 2\n",
      "Mean validation score: 0.960 (std: 0.000)\n",
      "Parameters: {'n_estimators': 500, 'criterion': 'gini', 'max_depth': 5}\n",
      "\n",
      "Model with rank: 3\n",
      "Mean validation score: 0.960 (std: 0.000)\n",
      "Parameters: {'n_estimators': 1000, 'criterion': 'gini', 'max_depth': 5}\n",
      "\n",
      "{'n_estimators': 100, 'criterion': 'gini', 'max_depth': 5}\n"
     ]
    }
   ],
   "source": [
    "#Next we can do a grid search to find the best parameters for the RFC\n",
    "param_grid = {\"max_depth\": [5,3, None],\n",
    "              \"max_features\": [1, 3, 10],\n",
    "              \"min_samples_split\": [1, 3, 10],\n",
    "              \"min_samples_leaf\": [1, 3, 10],\n",
    "              \"bootstrap\": [True, False],\n",
    "              \"criterion\": [\"gini\", \"entropy\"],\n",
    "              \"n_estimators\": [100,500,1000]}\n",
    "\n",
    "param_grid_sm = {\"max_depth\": [5,3, None],\n",
    "              \"criterion\": [\"gini\", \"entropy\"],\n",
    "              \"n_estimators\": [100,500,1000]}\n",
    "\n",
    "grid_search = GridSearchCV(clf, param_grid=param_grid_sm, n_jobs=4)\n",
    "start = time()\n",
    "grid_search.fit(X_train, y_train)\n",
    "\n",
    "print(\"GridSearchCV took %.2f seconds for %d candidate parameter settings.\"\n",
    "      % (time() - start, len(grid_search.grid_scores_)))\n",
    "report(grid_search.grid_scores_)\n",
    "\n",
    "print grid_search.best_params_\n",
    "bestcv = grid_search.best_params_\n",
    "#{'n_estimators': 100, 'criterion': 'gini', 'max_depth': 5}"
   ]
  },
  {
   "cell_type": "code",
   "execution_count": 16,
   "metadata": {
    "collapsed": false
   },
   "outputs": [
    {
     "data": {
      "text/plain": [
       "1.0"
      ]
     },
     "execution_count": 16,
     "metadata": {},
     "output_type": "execute_result"
    }
   ],
   "source": [
    "pred_prob=newfit.predict_proba(X_train)\n",
    "roc_auc_score(y_train,pred_prob[:,1])\n"
   ]
  },
  {
   "cell_type": "code",
   "execution_count": 18,
   "metadata": {
    "collapsed": false
   },
   "outputs": [
    {
     "data": {
      "text/plain": [
       "0.7888148912960733"
      ]
     },
     "execution_count": 18,
     "metadata": {},
     "output_type": "execute_result"
    }
   ],
   "source": [
    "pred_test=newfit.predict_proba(X_test)\n",
    "roc_auc_score(y_test,pred_test[:,1])"
   ]
  },
  {
   "cell_type": "code",
   "execution_count": 7,
   "metadata": {
    "collapsed": true
   },
   "outputs": [],
   "source": [
    "scores = cross_validation.cross_val_score(clf, X_train, y_train, scoring='roc_auc', cv=3)"
   ]
  },
  {
   "cell_type": "code",
   "execution_count": 8,
   "metadata": {
    "collapsed": false
   },
   "outputs": [
    {
     "data": {
      "text/plain": [
       "array([ 0.78785387,  0.78989648,  0.80078597])"
      ]
     },
     "execution_count": 8,
     "metadata": {},
     "output_type": "execute_result"
    }
   ],
   "source": [
    "scores\n"
   ]
  },
  {
   "cell_type": "code",
   "execution_count": null,
   "metadata": {
    "collapsed": true
   },
   "outputs": [],
   "source": []
  },
  {
   "cell_type": "code",
   "execution_count": null,
   "metadata": {
    "collapsed": true
   },
   "outputs": [],
   "source": [
    "#let's try normalization of parameters\n",
    "\n",
    "#remove cols with <50 values\n",
    "\n",
    "\n",
    "# #psuedo code:\n",
    "# for i in n_cols\n",
    "#     1. swap out -99999999 and other odd vals\n",
    "#     2. scale vars\n",
    "\n",
    "#try booleans\n",
    "# for i in n_cols\n",
    "#     1. swap out -99999999 and other odd vals\n",
    "#     2. if val > 0, mark as 1\n",
    "\n",
    "#look up text classif algos/sparse\n",
    "infile.columns"
   ]
  }
 ],
 "metadata": {
  "kernelspec": {
   "display_name": "Python 2",
   "language": "python",
   "name": "python2"
  },
  "language_info": {
   "codemirror_mode": {
    "name": "ipython",
    "version": 2
   },
   "file_extension": ".py",
   "mimetype": "text/x-python",
   "name": "python",
   "nbconvert_exporter": "python",
   "pygments_lexer": "ipython2",
   "version": "2.7.11"
  }
 },
 "nbformat": 4,
 "nbformat_minor": 0
}
