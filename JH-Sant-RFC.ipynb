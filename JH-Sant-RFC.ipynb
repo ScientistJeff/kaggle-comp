{
 "metadata": {
  "name": "",
  "signature": "sha256:e3803b709085de35bfeb2717ad5ac7d996f8198bff9ad26d6232cbc9a3f0f586"
 },
 "nbformat": 3,
 "nbformat_minor": 0,
 "worksheets": [
  {
   "cells": [
    {
     "cell_type": "code",
     "collapsed": false,
     "input": [
      "import pandas as pd\n",
      "import numpy as np\n",
      "from sklearn import preprocessing\n",
      "from sklearn import cross_validation\n",
      "from sklearn import datasets\n",
      "from sklearn import svm\n",
      "from sklearn.ensemble import RandomForestClassifier, GradientBoostingClassifier\n",
      "from sklearn.metrics import roc_auc_score\n",
      "from sklearn.grid_search import GridSearchCV, RandomizedSearchCV\n",
      "from scipy.stats import randint as sp_randint"
     ],
     "language": "python",
     "metadata": {},
     "outputs": [],
     "prompt_number": 14
    },
    {
     "cell_type": "code",
     "collapsed": false,
     "input": [
      "trainfile = pd.read_pickle(\"./train_proc.pikl\")\n",
      "trainfileorig = pd.read_csv('./sant-train.csv')\n",
      "trainlab = trainfileorig['TARGET']\n",
      "\n",
      "testfile = pd.read_csv('./test_proc.csv')\n",
      "testfile = testfile.drop(['ID','Unnamed: 0'], axis=1)"
     ],
     "language": "python",
     "metadata": {},
     "outputs": [],
     "prompt_number": 37
    },
    {
     "cell_type": "code",
     "collapsed": false,
     "input": [
      "# best params found in JH-Sant2 grid serach\n",
      "#{'bootstrap': True, 'min_samples_leaf': 4, 'min_samples_split': 2, 'criterion': 'entropy', 'max_features': 8, 'max_depth': None}\n",
      "\n",
      "#clf = RandomForestClassifier(bootstrap=True, min_samples_leaf=4, min_samples_split=2, \n",
      "#                             criterion='entropy',max_features=8,max_depth=5, n_estimators = 50)\n",
      "\n",
      "clf = RandomForestClassifier(n_estimators=50,n_jobs=4,min_samples_leaf=4, min_samples_split=2, \n",
      "                             criterion='entropy',max_features=8)\n",
      "\n",
      "scores = cross_validation.cross_val_score(clf, trainfile, trainlab, scoring='roc_auc', cv=3)\n",
      "scores"
     ],
     "language": "python",
     "metadata": {},
     "outputs": [
      {
       "metadata": {},
       "output_type": "pyout",
       "prompt_number": 20,
       "text": [
        "array([ 0.80775497,  0.81355525,  0.82812624])"
       ]
      }
     ],
     "prompt_number": 20
    },
    {
     "cell_type": "code",
     "collapsed": false,
     "input": [
      "param_dist = {\"max_depth\": [10,20, None],\n",
      "              \"criterion\": [\"entropy\"],\n",
      "              'n_estimators': [75,100,150, 175]}\n",
      "\n",
      "# run randomized search\n",
      "n_iter_search = 12\n",
      "\n",
      "CV_rfc = RandomizedSearchCV(clf, param_distributions=param_dist,\n",
      "                                   n_iter=n_iter_search, scoring=\"roc_auc\")\n",
      "CV_rfc.fit(trainfile, trainlab)\n",
      "print CV_rfc.best_params_"
     ],
     "language": "python",
     "metadata": {},
     "outputs": [
      {
       "output_type": "stream",
       "stream": "stdout",
       "text": [
        "{'n_estimators': 175, 'criterion': 'entropy', 'max_depth': None}\n"
       ]
      }
     ],
     "prompt_number": 24
    },
    {
     "cell_type": "code",
     "collapsed": false,
     "input": [
      "CV_rfc.grid_scores_"
     ],
     "language": "python",
     "metadata": {},
     "outputs": [
      {
       "metadata": {},
       "output_type": "pyout",
       "prompt_number": 25,
       "text": [
        "[mean: 0.80935, std: 0.01069, params: {'n_estimators': 75, 'criterion': 'entropy', 'max_depth': 10},\n",
        " mean: 0.80721, std: 0.01068, params: {'n_estimators': 100, 'criterion': 'entropy', 'max_depth': 10},\n",
        " mean: 0.80943, std: 0.01085, params: {'n_estimators': 150, 'criterion': 'entropy', 'max_depth': 10},\n",
        " mean: 0.80947, std: 0.01013, params: {'n_estimators': 175, 'criterion': 'entropy', 'max_depth': 10},\n",
        " mean: 0.81897, std: 0.00722, params: {'n_estimators': 75, 'criterion': 'entropy', 'max_depth': 20},\n",
        " mean: 0.81918, std: 0.00956, params: {'n_estimators': 100, 'criterion': 'entropy', 'max_depth': 20},\n",
        " mean: 0.81997, std: 0.01024, params: {'n_estimators': 150, 'criterion': 'entropy', 'max_depth': 20},\n",
        " mean: 0.81983, std: 0.00899, params: {'n_estimators': 175, 'criterion': 'entropy', 'max_depth': 20},\n",
        " mean: 0.81829, std: 0.01174, params: {'n_estimators': 75, 'criterion': 'entropy', 'max_depth': None},\n",
        " mean: 0.81792, std: 0.01130, params: {'n_estimators': 100, 'criterion': 'entropy', 'max_depth': None},\n",
        " mean: 0.82028, std: 0.01001, params: {'n_estimators': 150, 'criterion': 'entropy', 'max_depth': None},\n",
        " mean: 0.82118, std: 0.01088, params: {'n_estimators': 175, 'criterion': 'entropy', 'max_depth': None}]"
       ]
      }
     ],
     "prompt_number": 25
    },
    {
     "cell_type": "code",
     "collapsed": false,
     "input": [
      "clf = RandomForestClassifier(n_estimators=175,n_jobs=4,min_samples_leaf=4, min_samples_split=2, \n",
      "                             criterion='entropy',max_features=8,max_depth=None)"
     ],
     "language": "python",
     "metadata": {},
     "outputs": [],
     "prompt_number": 26
    },
    {
     "cell_type": "code",
     "collapsed": false,
     "input": [
      "type(CV_rfc.best_estimator_)"
     ],
     "language": "python",
     "metadata": {},
     "outputs": [
      {
       "metadata": {},
       "output_type": "pyout",
       "prompt_number": 28,
       "text": [
        "sklearn.ensemble.forest.RandomForestClassifier"
       ]
      }
     ],
     "prompt_number": 28
    },
    {
     "cell_type": "code",
     "collapsed": false,
     "input": [
      "BestRF = CV_rfc.best_estimator_\n",
      "\n",
      "Rfpreds = BestRF.predict_proba(testfile)"
     ],
     "language": "python",
     "metadata": {},
     "outputs": [],
     "prompt_number": 38
    },
    {
     "cell_type": "code",
     "collapsed": false,
     "input": [
      "samp_sub = pd.read_csv('sample_submission.csv')\n",
      "samp_sub['TARGET']  = Rfpreds[:,1]\n",
      "samp_sub.to_csv('sample_sub_RF_4-6.csv', index=False)"
     ],
     "language": "python",
     "metadata": {},
     "outputs": [],
     "prompt_number": 45
    }
   ],
   "metadata": {}
  }
 ]
}