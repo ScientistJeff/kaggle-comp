{
 "cells": [
  {
   "cell_type": "code",
   "execution_count": 25,
   "metadata": {
    "collapsed": false
   },
   "outputs": [],
   "source": [
    "import pandas as pd\n",
    "import numpy as np\n",
    "from sklearn import preprocessing\n",
    "from sklearn import cross_validation\n",
    "from sklearn import datasets\n",
    "from sklearn import svm\n",
    "from sklearn.ensemble import RandomForestClassifier, GradientBoostingClassifier\n",
    "from sklearn.metrics import roc_auc_score\n",
    "from sklearn.grid_search import GridSearchCV, RandomizedSearchCV\n",
    "from scipy.stats import randint as sp_randint"
   ]
  },
  {
   "cell_type": "code",
   "execution_count": 2,
   "metadata": {
    "collapsed": false
   },
   "outputs": [],
   "source": [
    "infile = pd.read_csv(\"./sant-train.csv\")\n",
    "\n",
    "infile.columns.values\n",
    "infile.TARGET.value_counts()\n",
    "\n",
    "colcard = list()\n",
    "\n",
    "for i in xrange(len(infile.columns)):\n",
    "    colcard.append(len(infile.iloc[:,i].value_counts()))\n"
   ]
  },
  {
   "cell_type": "code",
   "execution_count": 3,
   "metadata": {
    "collapsed": false
   },
   "outputs": [],
   "source": [
    "colnz = infile.astype(bool).sum(axis=0)\n",
    "\n",
    "len(colnz[colnz>50])\n",
    "\n",
    "infile['saldo_medio_var13_medio_hace3'].describe()\n",
    "\n",
    "infile.iloc[:,1:10].describe()\n",
    "\n",
    "infile1 = infile.where(infile>0,0)\n",
    "colnz = infile1.astype(bool).sum(axis=0)\n",
    "collist = list(colnz[colnz>50].index)\n",
    "infile2 = infile1.loc[:,collist]"
   ]
  },
  {
   "cell_type": "code",
   "execution_count": 4,
   "metadata": {
    "collapsed": false
   },
   "outputs": [
    {
     "data": {
      "text/plain": [
       "(76020, 227)"
      ]
     },
     "execution_count": 4,
     "metadata": {},
     "output_type": "execute_result"
    }
   ],
   "source": [
    "shape(infile2)\n"
   ]
  },
  {
   "cell_type": "code",
   "execution_count": 5,
   "metadata": {
    "collapsed": false
   },
   "outputs": [
    {
     "data": {
      "text/plain": [
       "((60816, 226), (60816,))"
      ]
     },
     "execution_count": 5,
     "metadata": {},
     "output_type": "execute_result"
    }
   ],
   "source": [
    "trainfeat = infile2.drop(['TARGET'], axis=1)\n",
    "trainlab = infile['TARGET']\n",
    "\n",
    "X_train, X_test, y_train, y_test = cross_validation.train_test_split(trainfeat, trainlab, test_size=0.20, random_state=777)\n",
    "\n",
    "X_train.shape, y_train.shape\n",
    "\n",
    "#X_test.shape, y_test.shape"
   ]
  },
  {
   "cell_type": "code",
   "execution_count": 7,
   "metadata": {
    "collapsed": false
   },
   "outputs": [
    {
     "data": {
      "text/plain": [
       "RandomForestClassifier(bootstrap=True, class_weight=None, criterion='gini',\n",
       "            max_depth=None, max_features='auto', max_leaf_nodes=None,\n",
       "            min_samples_leaf=1, min_samples_split=2,\n",
       "            min_weight_fraction_leaf=0.0, n_estimators=500, n_jobs=4,\n",
       "            oob_score=False, random_state=None, verbose=0,\n",
       "            warm_start=False)"
      ]
     },
     "execution_count": 7,
     "metadata": {},
     "output_type": "execute_result"
    }
   ],
   "source": [
    "clf = RandomForestClassifier(n_estimators=500,n_jobs=4,)\n",
    "clf.fit(X_train,y_train)\n",
    "#clf.score(X_test, y_test, scoring=\"roc_auc\")"
   ]
  },
  {
   "cell_type": "code",
   "execution_count": 8,
   "metadata": {
    "collapsed": false
   },
   "outputs": [],
   "source": [
    "scores = cross_validation.cross_val_score(clf, X_train, y_train, scoring='roc_auc', cv=5)\n",
    "\n"
   ]
  },
  {
   "cell_type": "code",
   "execution_count": null,
   "metadata": {
    "collapsed": false
   },
   "outputs": [],
   "source": [
    "#let's try normalization of parameters\n",
    "\n",
    "#remove cols with <50 values\n",
    "\n",
    "\n",
    "# #psuedo code:\n",
    "# for i in n_cols\n",
    "#     1. swap out -99999999 and other odd vals\n",
    "#     2. scale vars\n",
    "\n",
    "#try booleans\n",
    "# for i in n_cols\n",
    "#     1. swap out -99999999 and other odd vals\n",
    "#     2. if val > 0, mark as 1\n",
    "\n",
    "#look up text classif algos/sparse\n",
    "infile.columns"
   ]
  },
  {
   "cell_type": "code",
   "execution_count": 23,
   "metadata": {
    "collapsed": false
   },
   "outputs": [
    {
     "name": "stdout",
     "output_type": "stream",
     "text": [
      "{'bootstrap': True, 'min_samples_leaf': 4, 'min_samples_split': 2, 'criterion': 'entropy', 'max_features': 8, 'max_depth': None}\n"
     ]
    }
   ],
   "source": [
    "param_dist = {\"max_depth\": [3, None],\n",
    "              \"max_features\": sp_randint(1, 11),\n",
    "              \"min_samples_split\": sp_randint(1, 11),\n",
    "              \"min_samples_leaf\": sp_randint(1, 11),\n",
    "              \"bootstrap\": [True, False],\n",
    "              \"criterion\": [\"gini\", \"entropy\"]}\n",
    "\n",
    "# run randomized search\n",
    "n_iter_search = 20\n",
    "\n",
    "CV_rfc = RandomizedSearchCV(clf, param_distributions=param_dist,\n",
    "                                   n_iter=n_iter_search, scoring=\"roc_auc\")\n",
    "CV_rfc.fit(X_train, y_train)\n",
    "print CV_rfc.best_params_\n",
    "\n",
    "#{'bootstrap': True, 'min_samples_leaf': 4, 'min_samples_split': 2, 'criterion': 'entropy', 'max_features': 8, 'max_depth': None}\n"
   ]
  },
  {
   "cell_type": "code",
   "execution_count": 24,
   "metadata": {
    "collapsed": false
   },
   "outputs": [
    {
     "data": {
      "text/plain": [
       "[mean: 0.78210, std: 0.01099, params: {'bootstrap': False, 'min_samples_leaf': 9, 'min_samples_split': 1, 'criterion': 'entropy', 'max_features': 5, 'max_depth': 3},\n",
       " mean: 0.78058, std: 0.01411, params: {'bootstrap': True, 'min_samples_leaf': 6, 'min_samples_split': 8, 'criterion': 'gini', 'max_features': 8, 'max_depth': 3},\n",
       " mean: 0.76025, std: 0.01719, params: {'bootstrap': False, 'min_samples_leaf': 3, 'min_samples_split': 8, 'criterion': 'entropy', 'max_features': 1, 'max_depth': 3},\n",
       " mean: 0.81919, std: 0.00768, params: {'bootstrap': True, 'min_samples_leaf': 5, 'min_samples_split': 5, 'criterion': 'gini', 'max_features': 9, 'max_depth': None},\n",
       " mean: 0.78044, std: 0.01088, params: {'bootstrap': False, 'min_samples_leaf': 8, 'min_samples_split': 9, 'criterion': 'gini', 'max_features': 6, 'max_depth': 3},\n",
       " mean: 0.78055, std: 0.01142, params: {'bootstrap': False, 'min_samples_leaf': 10, 'min_samples_split': 10, 'criterion': 'gini', 'max_features': 8, 'max_depth': 3},\n",
       " mean: 0.77076, std: 0.01345, params: {'bootstrap': False, 'min_samples_leaf': 1, 'min_samples_split': 10, 'criterion': 'gini', 'max_features': 2, 'max_depth': 3},\n",
       " mean: 0.82063, std: 0.00796, params: {'bootstrap': True, 'min_samples_leaf': 4, 'min_samples_split': 2, 'criterion': 'entropy', 'max_features': 8, 'max_depth': None},\n",
       " mean: 0.81234, std: 0.00855, params: {'bootstrap': False, 'min_samples_leaf': 6, 'min_samples_split': 6, 'criterion': 'gini', 'max_features': 6, 'max_depth': None},\n",
       " mean: 0.78545, std: 0.01236, params: {'bootstrap': True, 'min_samples_leaf': 9, 'min_samples_split': 10, 'criterion': 'entropy', 'max_features': 9, 'max_depth': 3},\n",
       " mean: 0.82053, std: 0.00799, params: {'bootstrap': True, 'min_samples_leaf': 7, 'min_samples_split': 9, 'criterion': 'entropy', 'max_features': 9, 'max_depth': None},\n",
       " mean: 0.78234, std: 0.00930, params: {'bootstrap': True, 'min_samples_leaf': 10, 'min_samples_split': 10, 'criterion': 'entropy', 'max_features': 6, 'max_depth': 3},\n",
       " mean: 0.81046, std: 0.00851, params: {'bootstrap': True, 'min_samples_leaf': 7, 'min_samples_split': 7, 'criterion': 'entropy', 'max_features': 5, 'max_depth': None},\n",
       " mean: 0.81122, std: 0.00785, params: {'bootstrap': True, 'min_samples_leaf': 8, 'min_samples_split': 3, 'criterion': 'gini', 'max_features': 6, 'max_depth': None},\n",
       " mean: 0.78351, std: 0.00921, params: {'bootstrap': True, 'min_samples_leaf': 6, 'min_samples_split': 7, 'criterion': 'entropy', 'max_features': 6, 'max_depth': 3},\n",
       " mean: 0.79858, std: 0.00860, params: {'bootstrap': True, 'min_samples_leaf': 4, 'min_samples_split': 3, 'criterion': 'gini', 'max_features': 2, 'max_depth': None},\n",
       " mean: 0.80049, std: 0.00821, params: {'bootstrap': True, 'min_samples_leaf': 7, 'min_samples_split': 1, 'criterion': 'gini', 'max_features': 3, 'max_depth': None},\n",
       " mean: 0.80963, std: 0.00768, params: {'bootstrap': True, 'min_samples_leaf': 7, 'min_samples_split': 8, 'criterion': 'entropy', 'max_features': 5, 'max_depth': None},\n",
       " mean: 0.80725, std: 0.00855, params: {'bootstrap': True, 'min_samples_leaf': 1, 'min_samples_split': 9, 'criterion': 'entropy', 'max_features': 6, 'max_depth': None},\n",
       " mean: 0.78004, std: 0.01134, params: {'bootstrap': True, 'min_samples_leaf': 9, 'min_samples_split': 9, 'criterion': 'gini', 'max_features': 6, 'max_depth': 3}]"
      ]
     },
     "execution_count": 24,
     "metadata": {},
     "output_type": "execute_result"
    }
   ],
   "source": [
    "CV_rfc.grid_scores_"
   ]
  },
  {
   "cell_type": "code",
   "execution_count": 26,
   "metadata": {
    "collapsed": false
   },
   "outputs": [
    {
     "data": {
      "text/plain": [
       "0.9607997895290713"
      ]
     },
     "execution_count": 26,
     "metadata": {},
     "output_type": "execute_result"
    }
   ],
   "source": [
    "gbc = GradientBoostingClassifier(n_estimators=100, learning_rate=1.0, max_depth=3, random_state=777)\n",
    "\n",
    "gbfit = gbc.fit(X_train, y_train)\n",
    "gbfit.score(X_test, y_test)\n",
    "\n"
   ]
  },
  {
   "cell_type": "code",
   "execution_count": 34,
   "metadata": {
    "collapsed": false
   },
   "outputs": [
    {
     "name": "stdout",
     "output_type": "stream",
     "text": [
      "{'max_features': 10, 'n_estimators': 200, 'learning_rate': 0.013609745065371048, 'max_depth': 6, 'min_samples_leaf': 6}\n"
     ]
    }
   ],
   "source": [
    "param_dist_gbc = {\"learning_rate\": np.random.random_sample(1),\n",
    "              \"max_features\": sp_randint(1, 11),\n",
    "              \"n_estimators\": [20,50,100,200],\n",
    "              \"max_depth\": sp_randint(1, 11),\n",
    "              \"min_samples_leaf\": sp_randint(1, 11)}\n",
    "\n",
    "# run randomized search\n",
    "n_iter_search = 20\n",
    "\n",
    "CV_gbc = RandomizedSearchCV(gbc, param_distributions=param_dist_gbc,\n",
    "                                   n_iter=n_iter_search, scoring=\"roc_auc\")\n",
    "CV_gbc.fit(X_train, y_train)\n",
    "print CV_gbc.best_params_\n",
    "#{'max_features': 10, 'n_estimators': 200, 'learning_rate': 0.013609745065371048, 'max_depth': 6, 'min_samples_leaf': 6}"
   ]
  },
  {
   "cell_type": "code",
   "execution_count": null,
   "metadata": {
    "collapsed": false
   },
   "outputs": [],
   "source": [
    "np.random.random_sample(1)"
   ]
  }
 ],
 "metadata": {
  "kernelspec": {
   "display_name": "Python 2",
   "language": "python",
   "name": "python2"
  },
  "language_info": {
   "codemirror_mode": {
    "name": "ipython",
    "version": 2
   },
   "file_extension": ".py",
   "mimetype": "text/x-python",
   "name": "python",
   "nbconvert_exporter": "python",
   "pygments_lexer": "ipython2",
   "version": "2.7.11"
  }
 },
 "nbformat": 4,
 "nbformat_minor": 0
}
