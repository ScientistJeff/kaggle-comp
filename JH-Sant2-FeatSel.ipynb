{
 "metadata": {
  "name": "",
  "signature": "sha256:05f28d180b2f1db76cf72a0d04964e6a05388eb8606b18dc585aa2c077c90a45"
 },
 "nbformat": 3,
 "nbformat_minor": 0,
 "worksheets": [
  {
   "cells": [
    {
     "cell_type": "code",
     "collapsed": false,
     "input": [
      "import pandas as pd\n",
      "import numpy as np\n",
      "from sklearn import preprocessing\n",
      "from sklearn import cross_validation\n",
      "from sklearn import datasets\n",
      "from sklearn import svm\n",
      "from sklearn.ensemble import RandomForestClassifier, GradientBoostingClassifier\n",
      "from sklearn.metrics import roc_auc_score\n",
      "from sklearn.grid_search import GridSearchCV, RandomizedSearchCV\n",
      "from scipy.stats import randint as sp_randint"
     ],
     "language": "python",
     "metadata": {},
     "outputs": [],
     "prompt_number": 1
    },
    {
     "cell_type": "code",
     "collapsed": false,
     "input": [
      "infile = pd.read_csv(\"./train_proc.csv\")\n",
      "\n",
      "infile.columns.values\n",
      "infile.TARGET.value_counts()\n",
      "\n",
      "colcard = list()\n",
      "\n",
      "for i in xrange(len(infile.columns)):\n",
      "    colcard.append(len(infile.iloc[:,i].value_counts()))\n"
     ],
     "language": "python",
     "metadata": {},
     "outputs": [],
     "prompt_number": 5
    },
    {
     "cell_type": "code",
     "collapsed": false,
     "input": [
      "#infile.var().sort_values()[1:50]\n",
      "shape(infile)"
     ],
     "language": "python",
     "metadata": {},
     "outputs": [
      {
       "metadata": {},
       "output_type": "pyout",
       "prompt_number": 8,
       "text": [
        "(76020, 372)"
       ]
      }
     ],
     "prompt_number": 8
    },
    {
     "cell_type": "code",
     "collapsed": false,
     "input": [
      "colnz = infile.astype(bool).sum(axis=0)\n",
      "\n",
      "len(colnz[colnz>50])\n",
      "\n",
      "infile['saldo_medio_var13_medio_hace3'].describe()\n",
      "\n",
      "infile.iloc[:,1:10].describe()\n",
      "\n",
      "infile1 = infile.where(infile>0,0)\n",
      "colnz = infile1.astype(bool).sum(axis=0)\n",
      "collist = list(colnz[colnz>50].index)\n",
      "infile2 = infile1.loc[:,collist]"
     ],
     "language": "python",
     "metadata": {},
     "outputs": []
    },
    {
     "cell_type": "code",
     "collapsed": false,
     "input": [
      "colnz[colnz<20]\n"
     ],
     "language": "python",
     "metadata": {},
     "outputs": []
    },
    {
     "cell_type": "code",
     "collapsed": false,
     "input": [
      "c = infile.corr().abs()\n",
      "\n",
      "unsta = c.unstack()\n",
      "\n",
      "sort = unsta.sort_values(ascending=False)"
     ],
     "language": "python",
     "metadata": {},
     "outputs": []
    },
    {
     "cell_type": "code",
     "collapsed": false,
     "input": [
      "all_ones = sort[sort==1]\n",
      "all_ones[0:10].axes"
     ],
     "language": "python",
     "metadata": {},
     "outputs": []
    },
    {
     "cell_type": "code",
     "collapsed": false,
     "input": [
      "trainfeat = infile.drop(['TARGET'], axis=1)\n",
      "trainlab = infile['TARGET']\n",
      "\n",
      "X_train, X_test, y_train, y_test = cross_validation.train_test_split(trainfeat, trainlab, test_size=0.20, random_state=777)\n",
      "\n",
      "X_train.shape, y_train.shape\n",
      "\n",
      "#X_test.shape, y_test.shape"
     ],
     "language": "python",
     "metadata": {},
     "outputs": [
      {
       "metadata": {},
       "output_type": "pyout",
       "prompt_number": 6,
       "text": [
        "((60816, 371), (60816,))"
       ]
      }
     ],
     "prompt_number": 6
    },
    {
     "cell_type": "code",
     "collapsed": false,
     "input": [
      "clf = RandomForestClassifier(n_estimators=500,n_jobs=4,)\n",
      "clf.fit(X_train,y_train)\n",
      "#clf.score(X_test, y_test, scoring=\"roc_auc\")"
     ],
     "language": "python",
     "metadata": {},
     "outputs": []
    },
    {
     "cell_type": "code",
     "collapsed": false,
     "input": [
      "scores = cross_validation.cross_val_score(clf, X_train, y_train, scoring='roc_auc', cv=5)\n",
      "\n"
     ],
     "language": "python",
     "metadata": {},
     "outputs": [],
     "prompt_number": 8
    },
    {
     "cell_type": "code",
     "collapsed": false,
     "input": [
      "#let's try normalization of parameters\n",
      "\n",
      "#remove cols with <50 values\n",
      "\n",
      "\n",
      "# #psuedo code:\n",
      "# for i in n_cols\n",
      "#     1. swap out -99999999 and other odd vals\n",
      "#     2. scale vars\n",
      "\n",
      "#try booleans\n",
      "# for i in n_cols\n",
      "#     1. swap out -99999999 and other odd vals\n",
      "#     2. if val > 0, mark as 1\n",
      "\n",
      "#look up text classif algos/sparse\n",
      "infile.columns"
     ],
     "language": "python",
     "metadata": {},
     "outputs": []
    },
    {
     "cell_type": "code",
     "collapsed": false,
     "input": [
      "param_dist = {\"max_depth\": [3, None],\n",
      "              \"max_features\": sp_randint(1, 11),\n",
      "              \"min_samples_split\": sp_randint(1, 11),\n",
      "              \"min_samples_leaf\": sp_randint(1, 11),\n",
      "              \"bootstrap\": [True, False],\n",
      "              \"criterion\": [\"gini\", \"entropy\"]}\n",
      "\n",
      "# run randomized search\n",
      "n_iter_search = 20\n",
      "\n",
      "CV_rfc = RandomizedSearchCV(clf, param_distributions=param_dist,\n",
      "                                   n_iter=n_iter_search, scoring=\"roc_auc\")\n",
      "CV_rfc.fit(X_train, y_train)\n",
      "print CV_rfc.best_params_\n",
      "\n",
      "#{'bootstrap': True, 'min_samples_leaf': 4, 'min_samples_split': 2, 'criterion': 'entropy', 'max_features': 8, 'max_depth': None}\n"
     ],
     "language": "python",
     "metadata": {},
     "outputs": [
      {
       "output_type": "stream",
       "stream": "stdout",
       "text": [
        "{'bootstrap': True, 'min_samples_leaf': 4, 'min_samples_split': 2, 'criterion': 'entropy', 'max_features': 8, 'max_depth': None}\n"
       ]
      }
     ],
     "prompt_number": 23
    },
    {
     "cell_type": "code",
     "collapsed": false,
     "input": [
      "CV_rfc.grid_scores_"
     ],
     "language": "python",
     "metadata": {},
     "outputs": [
      {
       "metadata": {},
       "output_type": "pyout",
       "prompt_number": 24,
       "text": [
        "[mean: 0.78210, std: 0.01099, params: {'bootstrap': False, 'min_samples_leaf': 9, 'min_samples_split': 1, 'criterion': 'entropy', 'max_features': 5, 'max_depth': 3},\n",
        " mean: 0.78058, std: 0.01411, params: {'bootstrap': True, 'min_samples_leaf': 6, 'min_samples_split': 8, 'criterion': 'gini', 'max_features': 8, 'max_depth': 3},\n",
        " mean: 0.76025, std: 0.01719, params: {'bootstrap': False, 'min_samples_leaf': 3, 'min_samples_split': 8, 'criterion': 'entropy', 'max_features': 1, 'max_depth': 3},\n",
        " mean: 0.81919, std: 0.00768, params: {'bootstrap': True, 'min_samples_leaf': 5, 'min_samples_split': 5, 'criterion': 'gini', 'max_features': 9, 'max_depth': None},\n",
        " mean: 0.78044, std: 0.01088, params: {'bootstrap': False, 'min_samples_leaf': 8, 'min_samples_split': 9, 'criterion': 'gini', 'max_features': 6, 'max_depth': 3},\n",
        " mean: 0.78055, std: 0.01142, params: {'bootstrap': False, 'min_samples_leaf': 10, 'min_samples_split': 10, 'criterion': 'gini', 'max_features': 8, 'max_depth': 3},\n",
        " mean: 0.77076, std: 0.01345, params: {'bootstrap': False, 'min_samples_leaf': 1, 'min_samples_split': 10, 'criterion': 'gini', 'max_features': 2, 'max_depth': 3},\n",
        " mean: 0.82063, std: 0.00796, params: {'bootstrap': True, 'min_samples_leaf': 4, 'min_samples_split': 2, 'criterion': 'entropy', 'max_features': 8, 'max_depth': None},\n",
        " mean: 0.81234, std: 0.00855, params: {'bootstrap': False, 'min_samples_leaf': 6, 'min_samples_split': 6, 'criterion': 'gini', 'max_features': 6, 'max_depth': None},\n",
        " mean: 0.78545, std: 0.01236, params: {'bootstrap': True, 'min_samples_leaf': 9, 'min_samples_split': 10, 'criterion': 'entropy', 'max_features': 9, 'max_depth': 3},\n",
        " mean: 0.82053, std: 0.00799, params: {'bootstrap': True, 'min_samples_leaf': 7, 'min_samples_split': 9, 'criterion': 'entropy', 'max_features': 9, 'max_depth': None},\n",
        " mean: 0.78234, std: 0.00930, params: {'bootstrap': True, 'min_samples_leaf': 10, 'min_samples_split': 10, 'criterion': 'entropy', 'max_features': 6, 'max_depth': 3},\n",
        " mean: 0.81046, std: 0.00851, params: {'bootstrap': True, 'min_samples_leaf': 7, 'min_samples_split': 7, 'criterion': 'entropy', 'max_features': 5, 'max_depth': None},\n",
        " mean: 0.81122, std: 0.00785, params: {'bootstrap': True, 'min_samples_leaf': 8, 'min_samples_split': 3, 'criterion': 'gini', 'max_features': 6, 'max_depth': None},\n",
        " mean: 0.78351, std: 0.00921, params: {'bootstrap': True, 'min_samples_leaf': 6, 'min_samples_split': 7, 'criterion': 'entropy', 'max_features': 6, 'max_depth': 3},\n",
        " mean: 0.79858, std: 0.00860, params: {'bootstrap': True, 'min_samples_leaf': 4, 'min_samples_split': 3, 'criterion': 'gini', 'max_features': 2, 'max_depth': None},\n",
        " mean: 0.80049, std: 0.00821, params: {'bootstrap': True, 'min_samples_leaf': 7, 'min_samples_split': 1, 'criterion': 'gini', 'max_features': 3, 'max_depth': None},\n",
        " mean: 0.80963, std: 0.00768, params: {'bootstrap': True, 'min_samples_leaf': 7, 'min_samples_split': 8, 'criterion': 'entropy', 'max_features': 5, 'max_depth': None},\n",
        " mean: 0.80725, std: 0.00855, params: {'bootstrap': True, 'min_samples_leaf': 1, 'min_samples_split': 9, 'criterion': 'entropy', 'max_features': 6, 'max_depth': None},\n",
        " mean: 0.78004, std: 0.01134, params: {'bootstrap': True, 'min_samples_leaf': 9, 'min_samples_split': 9, 'criterion': 'gini', 'max_features': 6, 'max_depth': 3}]"
       ]
      }
     ],
     "prompt_number": 24
    },
    {
     "cell_type": "code",
     "collapsed": false,
     "input": [
      "gbc = GradientBoostingClassifier(n_estimators=100, learning_rate=1.0, max_depth=3, random_state=777)\n",
      "\n",
      "gbfit = gbc.fit(X_train, y_train)\n",
      "gbfit.score(X_test, y_test)\n",
      "\n"
     ],
     "language": "python",
     "metadata": {},
     "outputs": [
      {
       "metadata": {},
       "output_type": "pyout",
       "prompt_number": 26,
       "text": [
        "0.9607997895290713"
       ]
      }
     ],
     "prompt_number": 26
    },
    {
     "cell_type": "code",
     "collapsed": false,
     "input": [
      "param_dist_gbc = {\"learning_rate\": np.random.random_sample(1),\n",
      "              \"max_features\": sp_randint(1, 11),\n",
      "              \"n_estimators\": [20,50,100,200],\n",
      "              \"max_depth\": sp_randint(1, 11),\n",
      "              \"min_samples_leaf\": sp_randint(1, 11)}\n",
      "\n",
      "# run randomized search\n",
      "n_iter_search = 20\n",
      "\n",
      "CV_gbc = RandomizedSearchCV(gbc, param_distributions=param_dist_gbc,\n",
      "                                   n_iter=n_iter_search, scoring=\"roc_auc\")\n",
      "CV_gbc.fit(X_train, y_train)\n",
      "print CV_gbc.best_params_\n",
      "#{'max_features': 10, 'n_estimators': 200, 'learning_rate': 0.013609745065371048, 'max_depth': 6, 'min_samples_leaf': 6}"
     ],
     "language": "python",
     "metadata": {},
     "outputs": [
      {
       "output_type": "stream",
       "stream": "stdout",
       "text": [
        "{'max_features': 10, 'n_estimators': 200, 'learning_rate': 0.013609745065371048, 'max_depth': 6, 'min_samples_leaf': 6}\n"
       ]
      }
     ],
     "prompt_number": 34
    },
    {
     "cell_type": "code",
     "collapsed": false,
     "input": [
      "np.random.random_sample(1)"
     ],
     "language": "python",
     "metadata": {},
     "outputs": []
    },
    {
     "cell_type": "code",
     "collapsed": false,
     "input": [
      "infeil"
     ],
     "language": "python",
     "metadata": {},
     "outputs": []
    }
   ],
   "metadata": {}
  }
 ]
}