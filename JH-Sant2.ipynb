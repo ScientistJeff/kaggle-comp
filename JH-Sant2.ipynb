{
 "metadata": {
  "name": "",
  "signature": "sha256:ef5a717a3bcf45c12ea4b115bd31ab4433fd3ba227eba7e92310daebd1bfbcd2"
 },
 "nbformat": 3,
 "nbformat_minor": 0,
 "worksheets": [
  {
   "cells": [
    {
     "cell_type": "code",
     "collapsed": false,
     "input": [
      "import pandas as pd\n",
      "import numpy as np\n",
      "from sklearn import preprocessing\n",
      "from sklearn import cross_validation\n",
      "from sklearn import datasets\n",
      "from sklearn import svm\n",
      "from sklearn.ensemble import RandomForestClassifier, GradientBoostingClassifier\n",
      "from sklearn.metrics import roc_auc_score\n",
      "from sklearn.grid_search import GridSearchCV, RandomizedSearchCV\n",
      "from scipy.stats import randint as sp_randint"
     ],
     "language": "python",
     "metadata": {},
     "outputs": [],
     "prompt_number": 75
    },
    {
     "cell_type": "code",
     "collapsed": false,
     "input": [
      "infile = pd.read_csv(\"./sant-train.csv\")\n",
      "\n",
      "infile.columns.values\n",
      "infile.TARGET.value_counts()\n",
      "\n",
      "colcard = list()\n",
      "\n",
      "for i in xrange(len(infile.columns)):\n",
      "    colcard.append(len(infile.iloc[:,i].value_counts()))\n"
     ],
     "language": "python",
     "metadata": {},
     "outputs": [],
     "prompt_number": 76
    },
    {
     "cell_type": "code",
     "collapsed": false,
     "input": [
      "infile.var().sort_values()[1:50]\n"
     ],
     "language": "python",
     "metadata": {},
     "outputs": [
      {
       "metadata": {},
       "output_type": "pyout",
       "prompt_number": 77,
       "text": [
        "num_trasp_var33_out_hace3        0.000000\n",
        "ind_var2_0                       0.000000\n",
        "ind_var2                         0.000000\n",
        "num_var46                        0.000000\n",
        "saldo_var28                      0.000000\n",
        "num_var46_0                      0.000000\n",
        "num_var27                        0.000000\n",
        "num_var28                        0.000000\n",
        "ind_var27                        0.000000\n",
        "num_var27_0                      0.000000\n",
        "num_trasp_var17_out_hace3        0.000000\n",
        "num_var41                        0.000000\n",
        "ind_var46                        0.000000\n",
        "ind_var46_0                      0.000000\n",
        "ind_var41                        0.000000\n",
        "imp_amort_var18_hace3            0.000000\n",
        "imp_amort_var34_hace3            0.000000\n",
        "saldo_var27                      0.000000\n",
        "imp_reemb_var33_hace3            0.000000\n",
        "saldo_var2_ult1                  0.000000\n",
        "imp_trasp_var33_out_hace3        0.000000\n",
        "ind_var27_0                      0.000000\n",
        "saldo_medio_var13_medio_hace3    0.000000\n",
        "saldo_var41                      0.000000\n",
        "num_reemb_var13_hace3            0.000000\n",
        "ind_var28_0                      0.000000\n",
        "ind_var28                        0.000000\n",
        "imp_reemb_var13_hace3            0.000000\n",
        "num_reemb_var33_hace3            0.000000\n",
        "saldo_var46                      0.000000\n",
        "num_var2_ult1                    0.000000\n",
        "num_var2_0_ult1                  0.000000\n",
        "imp_trasp_var17_out_hace3        0.000000\n",
        "ind_var29                        0.000026\n",
        "ind_var6                         0.000026\n",
        "ind_var13_medio_0                0.000026\n",
        "ind_var13_medio                  0.000026\n",
        "ind_var18                        0.000026\n",
        "ind_var18_0                      0.000026\n",
        "ind_var34                        0.000026\n",
        "ind_var34_0                      0.000026\n",
        "ind_var7_emit_ult1               0.000039\n",
        "ind_var29_0                      0.000105\n",
        "ind_var6_0                       0.000105\n",
        "num_meses_var13_medio_ult3       0.000105\n",
        "num_trasp_var33_out_ult1         0.000118\n",
        "num_reemb_var33_ult1             0.000118\n",
        "num_reemb_var17_hace3            0.000118\n",
        "num_meses_var29_ult3             0.000184\n",
        "dtype: float64"
       ]
      }
     ],
     "prompt_number": 77
    },
    {
     "cell_type": "code",
     "collapsed": false,
     "input": [
      "colnz = infile.astype(bool).sum(axis=0)\n",
      "\n",
      "len(colnz[colnz>50])\n",
      "\n",
      "infile['saldo_medio_var13_medio_hace3'].describe()\n",
      "\n",
      "infile.iloc[:,1:10].describe()\n",
      "\n",
      "infile1 = infile.where(infile>0,0)\n",
      "colnz = infile1.astype(bool).sum(axis=0)\n",
      "collist = list(colnz[colnz>50].index)\n",
      "infile2 = infile1.loc[:,collist]"
     ],
     "language": "python",
     "metadata": {},
     "outputs": [],
     "prompt_number": 45
    },
    {
     "cell_type": "code",
     "collapsed": false,
     "input": [
      "colnz[colnz<20]\n"
     ],
     "language": "python",
     "metadata": {},
     "outputs": [
      {
       "metadata": {},
       "output_type": "pyout",
       "prompt_number": 47,
       "text": [
        "ind_var2_0                        0\n",
        "ind_var2                          0\n",
        "ind_var6_0                        8\n",
        "ind_var6                          2\n",
        "ind_var13_medio_0                 2\n",
        "ind_var13_medio                   2\n",
        "ind_var18_0                       2\n",
        "ind_var18                         2\n",
        "ind_var27_0                       0\n",
        "ind_var28_0                       0\n",
        "ind_var28                         0\n",
        "ind_var27                         0\n",
        "ind_var29_0                       8\n",
        "ind_var29                         2\n",
        "ind_var34_0                       2\n",
        "ind_var34                         2\n",
        "ind_var41                         0\n",
        "ind_var46_0                       0\n",
        "ind_var46                         0\n",
        "num_var6_0                        8\n",
        "num_var6                          2\n",
        "num_var13_medio_0                 2\n",
        "num_var13_medio                   2\n",
        "num_var18_0                       2\n",
        "num_var18                         2\n",
        "num_op_var40_hace3                7\n",
        "num_var27_0                       0\n",
        "num_var28_0                       0\n",
        "num_var28                         0\n",
        "num_var27                         0\n",
        "                                 ..\n",
        "ind_var7_emit_ult1                3\n",
        "num_var2_0_ult1                   0\n",
        "num_var2_ult1                     0\n",
        "num_aport_var33_ult1              7\n",
        "num_var7_emit_ult1                3\n",
        "num_meses_var13_medio_ult3        2\n",
        "num_meses_var29_ult3              5\n",
        "num_reemb_var13_hace3             0\n",
        "num_reemb_var17_hace3             1\n",
        "num_reemb_var33_hace3             0\n",
        "num_reemb_var33_ult1              1\n",
        "num_trasp_var17_in_hace3          2\n",
        "num_trasp_var17_in_ult1           4\n",
        "num_trasp_var17_out_hace3         0\n",
        "num_trasp_var17_out_ult1          4\n",
        "num_trasp_var33_in_hace3          6\n",
        "num_trasp_var33_in_ult1           5\n",
        "num_trasp_var33_out_hace3         0\n",
        "num_trasp_var33_out_ult1          1\n",
        "num_venta_var44_hace3             3\n",
        "saldo_var2_ult1                   0\n",
        "saldo_medio_var13_medio_hace2     2\n",
        "saldo_medio_var13_medio_hace3     0\n",
        "saldo_medio_var13_medio_ult1      2\n",
        "saldo_medio_var13_medio_ult3      2\n",
        "saldo_medio_var17_hace3          17\n",
        "saldo_medio_var29_hace2           4\n",
        "saldo_medio_var29_hace3           1\n",
        "saldo_medio_var29_ult1            3\n",
        "saldo_medio_var29_ult3            3\n",
        "dtype: int64"
       ]
      }
     ],
     "prompt_number": 47
    },
    {
     "cell_type": "code",
     "collapsed": false,
     "input": [
      "c = infile.corr().abs()\n",
      "\n",
      "unsta = c.unstack()\n",
      "\n",
      "sort = unsta.sort_values(ascending=False)"
     ],
     "language": "python",
     "metadata": {},
     "outputs": [],
     "prompt_number": 51
    },
    {
     "cell_type": "code",
     "collapsed": false,
     "input": [
      "all_ones = sort[sort==1]\n",
      "all_ones[0:10].axes"
     ],
     "language": "python",
     "metadata": {},
     "outputs": [
      {
       "metadata": {},
       "output_type": "pyout",
       "prompt_number": 73,
       "text": [
        "[MultiIndex(levels=[[u'ID', u'var3', u'var15', u'imp_ent_var16_ult1', u'imp_op_var39_comer_ult1', u'imp_op_var39_comer_ult3', u'imp_op_var40_comer_ult1', u'imp_op_var40_comer_ult3', u'imp_op_var40_efect_ult1', u'imp_op_var40_efect_ult3', u'imp_op_var40_ult1', u'imp_op_var41_comer_ult1', u'imp_op_var41_comer_ult3', u'imp_op_var41_efect_ult1', u'imp_op_var41_efect_ult3', u'imp_op_var41_ult1', u'imp_op_var39_efect_ult1', u'imp_op_var39_efect_ult3', u'imp_op_var39_ult1', u'imp_sal_var16_ult1', u'ind_var1_0', u'ind_var1', u'ind_var2_0', u'ind_var2', u'ind_var5_0', u'ind_var5', u'ind_var6_0', u'ind_var6', u'ind_var8_0', u'ind_var8', u'ind_var12_0', u'ind_var12', u'ind_var13_0', u'ind_var13_corto_0', u'ind_var13_corto', u'ind_var13_largo_0', u'ind_var13_largo', u'ind_var13_medio_0', u'ind_var13_medio', u'ind_var13', u'ind_var14_0', u'ind_var14', u'ind_var17_0', u'ind_var17', u'ind_var18_0', u'ind_var18', u'ind_var19', u'ind_var20_0', u'ind_var20', u'ind_var24_0', u'ind_var24', u'ind_var25_cte', u'ind_var26_0', u'ind_var26_cte', u'ind_var26', u'ind_var25_0', u'ind_var25', u'ind_var27_0', u'ind_var28_0', u'ind_var28', u'ind_var27', u'ind_var29_0', u'ind_var29', u'ind_var30_0', u'ind_var30', u'ind_var31_0', u'ind_var31', u'ind_var32_cte', u'ind_var32_0', u'ind_var32', u'ind_var33_0', u'ind_var33', u'ind_var34_0', u'ind_var34', u'ind_var37_cte', u'ind_var37_0', u'ind_var37', u'ind_var39_0', u'ind_var40_0', u'ind_var40', u'ind_var41_0', u'ind_var41', u'ind_var39', u'ind_var44_0', u'ind_var44', u'ind_var46_0', u'ind_var46', u'num_var1_0', u'num_var1', u'num_var4', u'num_var5_0', u'num_var5', u'num_var6_0', u'num_var6', u'num_var8_0', u'num_var8', u'num_var12_0', u'num_var12', u'num_var13_0', u'num_var13_corto_0', u'num_var13_corto', u'num_var13_largo_0', u'num_var13_largo', u'num_var13_medio_0', u'num_var13_medio', u'num_var13', u'num_var14_0', u'num_var14', u'num_var17_0', u'num_var17', u'num_var18_0', u'num_var18', u'num_var20_0', u'num_var20', u'num_var24_0', u'num_var24', u'num_var26_0', u'num_var26', u'num_var25_0', u'num_var25', u'num_op_var40_hace2', u'num_op_var40_hace3', u'num_op_var40_ult1', u'num_op_var40_ult3', u'num_op_var41_hace2', u'num_op_var41_hace3', u'num_op_var41_ult1', u'num_op_var41_ult3', u'num_op_var39_hace2', u'num_op_var39_hace3', u'num_op_var39_ult1', u'num_op_var39_ult3', u'num_var27_0', u'num_var28_0', u'num_var28', u'num_var27', u'num_var29_0', u'num_var29', u'num_var30_0', u'num_var30', u'num_var31_0', u'num_var31', u'num_var32_0', u'num_var32', u'num_var33_0', u'num_var33', u'num_var34_0', u'num_var34', u'num_var35', u'num_var37_med_ult2', u'num_var37_0', u'num_var37', u'num_var39_0', u'num_var40_0', u'num_var40', u'num_var41_0', u'num_var41', u'num_var39', u'num_var42_0', u'num_var42', u'num_var44_0', u'num_var44', u'num_var46_0', u'num_var46', u'saldo_var1', u'saldo_var5', u'saldo_var6', u'saldo_var8', u'saldo_var12', u'saldo_var13_corto', u'saldo_var13_largo', u'saldo_var13_medio', u'saldo_var13', u'saldo_var14', u'saldo_var17', u'saldo_var18', u'saldo_var20', u'saldo_var24', u'saldo_var26', u'saldo_var25', u'saldo_var28', u'saldo_var27', u'saldo_var29', u'saldo_var30', u'saldo_var31', u'saldo_var32', u'saldo_var33', u'saldo_var34', u'saldo_var37', u'saldo_var40', u'saldo_var41', u'saldo_var42', u'saldo_var44', u'saldo_var46', u'var36', u'delta_imp_amort_var18_1y3', u'delta_imp_amort_var34_1y3', u'delta_imp_aport_var13_1y3', u'delta_imp_aport_var17_1y3', u'delta_imp_aport_var33_1y3', u'delta_imp_compra_var44_1y3', u'delta_imp_reemb_var13_1y3', u'delta_imp_reemb_var17_1y3', u'delta_imp_reemb_var33_1y3', u'delta_imp_trasp_var17_in_1y3', u'delta_imp_trasp_var17_out_1y3', u'delta_imp_trasp_var33_in_1y3', u'delta_imp_trasp_var33_out_1y3', u'delta_imp_venta_var44_1y3', u'delta_num_aport_var13_1y3', u'delta_num_aport_var17_1y3', u'delta_num_aport_var33_1y3', u'delta_num_compra_var44_1y3', u'delta_num_reemb_var13_1y3', u'delta_num_reemb_var17_1y3', u'delta_num_reemb_var33_1y3', u'delta_num_trasp_var17_in_1y3', u'delta_num_trasp_var17_out_1y3', u'delta_num_trasp_var33_in_1y3', u'delta_num_trasp_var33_out_1y3', u'delta_num_venta_var44_1y3', u'imp_amort_var18_hace3', u'imp_amort_var18_ult1', u'imp_amort_var34_hace3', u'imp_amort_var34_ult1', u'imp_aport_var13_hace3', u'imp_aport_var13_ult1', u'imp_aport_var17_hace3', u'imp_aport_var17_ult1', u'imp_aport_var33_hace3', u'imp_aport_var33_ult1', u'imp_var7_emit_ult1', u'imp_var7_recib_ult1', u'imp_compra_var44_hace3', u'imp_compra_var44_ult1', u'imp_reemb_var13_hace3', u'imp_reemb_var13_ult1', u'imp_reemb_var17_hace3', u'imp_reemb_var17_ult1', u'imp_reemb_var33_hace3', u'imp_reemb_var33_ult1', u'imp_var43_emit_ult1', u'imp_trans_var37_ult1', u'imp_trasp_var17_in_hace3', u'imp_trasp_var17_in_ult1', u'imp_trasp_var17_out_hace3', u'imp_trasp_var17_out_ult1', u'imp_trasp_var33_in_hace3', u'imp_trasp_var33_in_ult1', u'imp_trasp_var33_out_hace3', u'imp_trasp_var33_out_ult1', u'imp_venta_var44_hace3', u'imp_venta_var44_ult1', u'ind_var7_emit_ult1', u'ind_var7_recib_ult1', u'ind_var10_ult1', u'ind_var10cte_ult1', u'ind_var9_cte_ult1', u'ind_var9_ult1', u'ind_var43_emit_ult1', u'ind_var43_recib_ult1', u'var21', u'num_var2_0_ult1', u'num_var2_ult1', u'num_aport_var13_hace3', u'num_aport_var13_ult1', u'num_aport_var17_hace3', u'num_aport_var17_ult1', u'num_aport_var33_hace3', u'num_aport_var33_ult1', u'num_var7_emit_ult1', u'num_var7_recib_ult1', u'num_compra_var44_hace3', u'num_compra_var44_ult1', u'num_ent_var16_ult1', u'num_var22_hace2', u'num_var22_hace3', u'num_var22_ult1', u'num_var22_ult3', u'num_med_var22_ult3', u'num_med_var45_ult3', u'num_meses_var5_ult3', u'num_meses_var8_ult3', u'num_meses_var12_ult3', u'num_meses_var13_corto_ult3', u'num_meses_var13_largo_ult3', u'num_meses_var13_medio_ult3', u'num_meses_var17_ult3', u'num_meses_var29_ult3', u'num_meses_var33_ult3', u'num_meses_var39_vig_ult3', u'num_meses_var44_ult3', u'num_op_var39_comer_ult1', u'num_op_var39_comer_ult3', u'num_op_var40_comer_ult1', u'num_op_var40_comer_ult3', u'num_op_var40_efect_ult1', u'num_op_var40_efect_ult3', u'num_op_var41_comer_ult1', u'num_op_var41_comer_ult3', u'num_op_var41_efect_ult1', u'num_op_var41_efect_ult3', u'num_op_var39_efect_ult1', u'num_op_var39_efect_ult3', u'num_reemb_var13_hace3', u'num_reemb_var13_ult1', u'num_reemb_var17_hace3', u'num_reemb_var17_ult1', u'num_reemb_var33_hace3', u'num_reemb_var33_ult1', u'num_sal_var16_ult1', u'num_var43_emit_ult1', u'num_var43_recib_ult1', u'num_trasp_var11_ult1', u'num_trasp_var17_in_hace3', u'num_trasp_var17_in_ult1', u'num_trasp_var17_out_hace3', u'num_trasp_var17_out_ult1', u'num_trasp_var33_in_hace3', u'num_trasp_var33_in_ult1', u'num_trasp_var33_out_hace3', u'num_trasp_var33_out_ult1', u'num_venta_var44_hace3', u'num_venta_var44_ult1', u'num_var45_hace2', u'num_var45_hace3', u'num_var45_ult1', u'num_var45_ult3', u'saldo_var2_ult1', u'saldo_medio_var5_hace2', u'saldo_medio_var5_hace3', u'saldo_medio_var5_ult1', u'saldo_medio_var5_ult3', u'saldo_medio_var8_hace2', u'saldo_medio_var8_hace3', u'saldo_medio_var8_ult1', u'saldo_medio_var8_ult3', u'saldo_medio_var12_hace2', u'saldo_medio_var12_hace3', u'saldo_medio_var12_ult1', u'saldo_medio_var12_ult3', u'saldo_medio_var13_corto_hace2', u'saldo_medio_var13_corto_hace3', u'saldo_medio_var13_corto_ult1', u'saldo_medio_var13_corto_ult3', u'saldo_medio_var13_largo_hace2', u'saldo_medio_var13_largo_hace3', u'saldo_medio_var13_largo_ult1', u'saldo_medio_var13_largo_ult3', u'saldo_medio_var13_medio_hace2', u'saldo_medio_var13_medio_hace3', u'saldo_medio_var13_medio_ult1', u'saldo_medio_var13_medio_ult3', u'saldo_medio_var17_hace2', u'saldo_medio_var17_hace3', u'saldo_medio_var17_ult1', u'saldo_medio_var17_ult3', u'saldo_medio_var29_hace2', u'saldo_medio_var29_hace3', u'saldo_medio_var29_ult1', u'saldo_medio_var29_ult3', u'saldo_medio_var33_hace2', u'saldo_medio_var33_hace3', u'saldo_medio_var33_ult1', u'saldo_medio_var33_ult3', u'saldo_medio_var44_hace2', u'saldo_medio_var44_hace3', u'saldo_medio_var44_ult1', u'saldo_medio_var44_ult3', u'var38', u'TARGET'], [u'ID', u'var3', u'var15', u'imp_ent_var16_ult1', u'imp_op_var39_comer_ult1', u'imp_op_var39_comer_ult3', u'imp_op_var40_comer_ult1', u'imp_op_var40_comer_ult3', u'imp_op_var40_efect_ult1', u'imp_op_var40_efect_ult3', u'imp_op_var40_ult1', u'imp_op_var41_comer_ult1', u'imp_op_var41_comer_ult3', u'imp_op_var41_efect_ult1', u'imp_op_var41_efect_ult3', u'imp_op_var41_ult1', u'imp_op_var39_efect_ult1', u'imp_op_var39_efect_ult3', u'imp_op_var39_ult1', u'imp_sal_var16_ult1', u'ind_var1_0', u'ind_var1', u'ind_var2_0', u'ind_var2', u'ind_var5_0', u'ind_var5', u'ind_var6_0', u'ind_var6', u'ind_var8_0', u'ind_var8', u'ind_var12_0', u'ind_var12', u'ind_var13_0', u'ind_var13_corto_0', u'ind_var13_corto', u'ind_var13_largo_0', u'ind_var13_largo', u'ind_var13_medio_0', u'ind_var13_medio', u'ind_var13', u'ind_var14_0', u'ind_var14', u'ind_var17_0', u'ind_var17', u'ind_var18_0', u'ind_var18', u'ind_var19', u'ind_var20_0', u'ind_var20', u'ind_var24_0', u'ind_var24', u'ind_var25_cte', u'ind_var26_0', u'ind_var26_cte', u'ind_var26', u'ind_var25_0', u'ind_var25', u'ind_var27_0', u'ind_var28_0', u'ind_var28', u'ind_var27', u'ind_var29_0', u'ind_var29', u'ind_var30_0', u'ind_var30', u'ind_var31_0', u'ind_var31', u'ind_var32_cte', u'ind_var32_0', u'ind_var32', u'ind_var33_0', u'ind_var33', u'ind_var34_0', u'ind_var34', u'ind_var37_cte', u'ind_var37_0', u'ind_var37', u'ind_var39_0', u'ind_var40_0', u'ind_var40', u'ind_var41_0', u'ind_var41', u'ind_var39', u'ind_var44_0', u'ind_var44', u'ind_var46_0', u'ind_var46', u'num_var1_0', u'num_var1', u'num_var4', u'num_var5_0', u'num_var5', u'num_var6_0', u'num_var6', u'num_var8_0', u'num_var8', u'num_var12_0', u'num_var12', u'num_var13_0', u'num_var13_corto_0', u'num_var13_corto', u'num_var13_largo_0', u'num_var13_largo', u'num_var13_medio_0', u'num_var13_medio', u'num_var13', u'num_var14_0', u'num_var14', u'num_var17_0', u'num_var17', u'num_var18_0', u'num_var18', u'num_var20_0', u'num_var20', u'num_var24_0', u'num_var24', u'num_var26_0', u'num_var26', u'num_var25_0', u'num_var25', u'num_op_var40_hace2', u'num_op_var40_hace3', u'num_op_var40_ult1', u'num_op_var40_ult3', u'num_op_var41_hace2', u'num_op_var41_hace3', u'num_op_var41_ult1', u'num_op_var41_ult3', u'num_op_var39_hace2', u'num_op_var39_hace3', u'num_op_var39_ult1', u'num_op_var39_ult3', u'num_var27_0', u'num_var28_0', u'num_var28', u'num_var27', u'num_var29_0', u'num_var29', u'num_var30_0', u'num_var30', u'num_var31_0', u'num_var31', u'num_var32_0', u'num_var32', u'num_var33_0', u'num_var33', u'num_var34_0', u'num_var34', u'num_var35', u'num_var37_med_ult2', u'num_var37_0', u'num_var37', u'num_var39_0', u'num_var40_0', u'num_var40', u'num_var41_0', u'num_var41', u'num_var39', u'num_var42_0', u'num_var42', u'num_var44_0', u'num_var44', u'num_var46_0', u'num_var46', u'saldo_var1', u'saldo_var5', u'saldo_var6', u'saldo_var8', u'saldo_var12', u'saldo_var13_corto', u'saldo_var13_largo', u'saldo_var13_medio', u'saldo_var13', u'saldo_var14', u'saldo_var17', u'saldo_var18', u'saldo_var20', u'saldo_var24', u'saldo_var26', u'saldo_var25', u'saldo_var28', u'saldo_var27', u'saldo_var29', u'saldo_var30', u'saldo_var31', u'saldo_var32', u'saldo_var33', u'saldo_var34', u'saldo_var37', u'saldo_var40', u'saldo_var41', u'saldo_var42', u'saldo_var44', u'saldo_var46', u'var36', u'delta_imp_amort_var18_1y3', u'delta_imp_amort_var34_1y3', u'delta_imp_aport_var13_1y3', u'delta_imp_aport_var17_1y3', u'delta_imp_aport_var33_1y3', u'delta_imp_compra_var44_1y3', u'delta_imp_reemb_var13_1y3', u'delta_imp_reemb_var17_1y3', u'delta_imp_reemb_var33_1y3', u'delta_imp_trasp_var17_in_1y3', u'delta_imp_trasp_var17_out_1y3', u'delta_imp_trasp_var33_in_1y3', u'delta_imp_trasp_var33_out_1y3', u'delta_imp_venta_var44_1y3', u'delta_num_aport_var13_1y3', u'delta_num_aport_var17_1y3', u'delta_num_aport_var33_1y3', u'delta_num_compra_var44_1y3', u'delta_num_reemb_var13_1y3', u'delta_num_reemb_var17_1y3', u'delta_num_reemb_var33_1y3', u'delta_num_trasp_var17_in_1y3', u'delta_num_trasp_var17_out_1y3', u'delta_num_trasp_var33_in_1y3', u'delta_num_trasp_var33_out_1y3', u'delta_num_venta_var44_1y3', u'imp_amort_var18_hace3', u'imp_amort_var18_ult1', u'imp_amort_var34_hace3', u'imp_amort_var34_ult1', u'imp_aport_var13_hace3', u'imp_aport_var13_ult1', u'imp_aport_var17_hace3', u'imp_aport_var17_ult1', u'imp_aport_var33_hace3', u'imp_aport_var33_ult1', u'imp_var7_emit_ult1', u'imp_var7_recib_ult1', u'imp_compra_var44_hace3', u'imp_compra_var44_ult1', u'imp_reemb_var13_hace3', u'imp_reemb_var13_ult1', u'imp_reemb_var17_hace3', u'imp_reemb_var17_ult1', u'imp_reemb_var33_hace3', u'imp_reemb_var33_ult1', u'imp_var43_emit_ult1', u'imp_trans_var37_ult1', u'imp_trasp_var17_in_hace3', u'imp_trasp_var17_in_ult1', u'imp_trasp_var17_out_hace3', u'imp_trasp_var17_out_ult1', u'imp_trasp_var33_in_hace3', u'imp_trasp_var33_in_ult1', u'imp_trasp_var33_out_hace3', u'imp_trasp_var33_out_ult1', u'imp_venta_var44_hace3', u'imp_venta_var44_ult1', u'ind_var7_emit_ult1', u'ind_var7_recib_ult1', u'ind_var10_ult1', u'ind_var10cte_ult1', u'ind_var9_cte_ult1', u'ind_var9_ult1', u'ind_var43_emit_ult1', u'ind_var43_recib_ult1', u'var21', u'num_var2_0_ult1', u'num_var2_ult1', u'num_aport_var13_hace3', u'num_aport_var13_ult1', u'num_aport_var17_hace3', u'num_aport_var17_ult1', u'num_aport_var33_hace3', u'num_aport_var33_ult1', u'num_var7_emit_ult1', u'num_var7_recib_ult1', u'num_compra_var44_hace3', u'num_compra_var44_ult1', u'num_ent_var16_ult1', u'num_var22_hace2', u'num_var22_hace3', u'num_var22_ult1', u'num_var22_ult3', u'num_med_var22_ult3', u'num_med_var45_ult3', u'num_meses_var5_ult3', u'num_meses_var8_ult3', u'num_meses_var12_ult3', u'num_meses_var13_corto_ult3', u'num_meses_var13_largo_ult3', u'num_meses_var13_medio_ult3', u'num_meses_var17_ult3', u'num_meses_var29_ult3', u'num_meses_var33_ult3', u'num_meses_var39_vig_ult3', u'num_meses_var44_ult3', u'num_op_var39_comer_ult1', u'num_op_var39_comer_ult3', u'num_op_var40_comer_ult1', u'num_op_var40_comer_ult3', u'num_op_var40_efect_ult1', u'num_op_var40_efect_ult3', u'num_op_var41_comer_ult1', u'num_op_var41_comer_ult3', u'num_op_var41_efect_ult1', u'num_op_var41_efect_ult3', u'num_op_var39_efect_ult1', u'num_op_var39_efect_ult3', u'num_reemb_var13_hace3', u'num_reemb_var13_ult1', u'num_reemb_var17_hace3', u'num_reemb_var17_ult1', u'num_reemb_var33_hace3', u'num_reemb_var33_ult1', u'num_sal_var16_ult1', u'num_var43_emit_ult1', u'num_var43_recib_ult1', u'num_trasp_var11_ult1', u'num_trasp_var17_in_hace3', u'num_trasp_var17_in_ult1', u'num_trasp_var17_out_hace3', u'num_trasp_var17_out_ult1', u'num_trasp_var33_in_hace3', u'num_trasp_var33_in_ult1', u'num_trasp_var33_out_hace3', u'num_trasp_var33_out_ult1', u'num_venta_var44_hace3', u'num_venta_var44_ult1', u'num_var45_hace2', u'num_var45_hace3', u'num_var45_ult1', u'num_var45_ult3', u'saldo_var2_ult1', u'saldo_medio_var5_hace2', u'saldo_medio_var5_hace3', u'saldo_medio_var5_ult1', u'saldo_medio_var5_ult3', u'saldo_medio_var8_hace2', u'saldo_medio_var8_hace3', u'saldo_medio_var8_ult1', u'saldo_medio_var8_ult3', u'saldo_medio_var12_hace2', u'saldo_medio_var12_hace3', u'saldo_medio_var12_ult1', u'saldo_medio_var12_ult3', u'saldo_medio_var13_corto_hace2', u'saldo_medio_var13_corto_hace3', u'saldo_medio_var13_corto_ult1', u'saldo_medio_var13_corto_ult3', u'saldo_medio_var13_largo_hace2', u'saldo_medio_var13_largo_hace3', u'saldo_medio_var13_largo_ult1', u'saldo_medio_var13_largo_ult3', u'saldo_medio_var13_medio_hace2', u'saldo_medio_var13_medio_hace3', u'saldo_medio_var13_medio_ult1', u'saldo_medio_var13_medio_ult3', u'saldo_medio_var17_hace2', u'saldo_medio_var17_hace3', u'saldo_medio_var17_ult1', u'saldo_medio_var17_ult3', u'saldo_medio_var29_hace2', u'saldo_medio_var29_hace3', u'saldo_medio_var29_ult1', u'saldo_medio_var29_ult3', u'saldo_medio_var33_hace2', u'saldo_medio_var33_hace3', u'saldo_medio_var33_ult1', u'saldo_medio_var33_ult3', u'saldo_medio_var44_hace2', u'saldo_medio_var44_hace3', u'saldo_medio_var44_ult1', u'saldo_medio_var44_ult3', u'var38', u'TARGET']],\n",
        "            labels=[[238, 241, 220, 222, 224, 225, 226, 227, 228, 229], [238, 241, 220, 222, 224, 225, 226, 227, 228, 229]])]"
       ]
      }
     ],
     "prompt_number": 73
    },
    {
     "cell_type": "code",
     "collapsed": false,
     "input": [
      "trainfeat = infile2.drop(['TARGET'], axis=1)\n",
      "trainlab = infile['TARGET']\n",
      "\n",
      "X_train, X_test, y_train, y_test = cross_validation.train_test_split(trainfeat, trainlab, test_size=0.20, random_state=777)\n",
      "\n",
      "X_train.shape, y_train.shape\n",
      "\n",
      "#X_test.shape, y_test.shape"
     ],
     "language": "python",
     "metadata": {},
     "outputs": [
      {
       "metadata": {},
       "output_type": "pyout",
       "prompt_number": 5,
       "text": [
        "((60816, 226), (60816,))"
       ]
      }
     ],
     "prompt_number": 5
    },
    {
     "cell_type": "code",
     "collapsed": false,
     "input": [
      "clf = RandomForestClassifier(n_estimators=500,n_jobs=4,)\n",
      "clf.fit(X_train,y_train)\n",
      "#clf.score(X_test, y_test, scoring=\"roc_auc\")"
     ],
     "language": "python",
     "metadata": {},
     "outputs": [
      {
       "metadata": {},
       "output_type": "pyout",
       "prompt_number": 7,
       "text": [
        "RandomForestClassifier(bootstrap=True, class_weight=None, criterion='gini',\n",
        "            max_depth=None, max_features='auto', max_leaf_nodes=None,\n",
        "            min_samples_leaf=1, min_samples_split=2,\n",
        "            min_weight_fraction_leaf=0.0, n_estimators=500, n_jobs=4,\n",
        "            oob_score=False, random_state=None, verbose=0,\n",
        "            warm_start=False)"
       ]
      }
     ],
     "prompt_number": 7
    },
    {
     "cell_type": "code",
     "collapsed": false,
     "input": [
      "scores = cross_validation.cross_val_score(clf, X_train, y_train, scoring='roc_auc', cv=5)\n",
      "\n"
     ],
     "language": "python",
     "metadata": {},
     "outputs": [],
     "prompt_number": 8
    },
    {
     "cell_type": "code",
     "collapsed": false,
     "input": [
      "#let's try normalization of parameters\n",
      "\n",
      "#remove cols with <50 values\n",
      "\n",
      "\n",
      "# #psuedo code:\n",
      "# for i in n_cols\n",
      "#     1. swap out -99999999 and other odd vals\n",
      "#     2. scale vars\n",
      "\n",
      "#try booleans\n",
      "# for i in n_cols\n",
      "#     1. swap out -99999999 and other odd vals\n",
      "#     2. if val > 0, mark as 1\n",
      "\n",
      "#look up text classif algos/sparse\n",
      "infile.columns"
     ],
     "language": "python",
     "metadata": {},
     "outputs": []
    },
    {
     "cell_type": "code",
     "collapsed": false,
     "input": [
      "param_dist = {\"max_depth\": [3, None],\n",
      "              \"max_features\": sp_randint(1, 11),\n",
      "              \"min_samples_split\": sp_randint(1, 11),\n",
      "              \"min_samples_leaf\": sp_randint(1, 11),\n",
      "              \"bootstrap\": [True, False],\n",
      "              \"criterion\": [\"gini\", \"entropy\"]}\n",
      "\n",
      "# run randomized search\n",
      "n_iter_search = 20\n",
      "\n",
      "CV_rfc = RandomizedSearchCV(clf, param_distributions=param_dist,\n",
      "                                   n_iter=n_iter_search, scoring=\"roc_auc\")\n",
      "CV_rfc.fit(X_train, y_train)\n",
      "print CV_rfc.best_params_\n",
      "\n",
      "#{'bootstrap': True, 'min_samples_leaf': 4, 'min_samples_split': 2, 'criterion': 'entropy', 'max_features': 8, 'max_depth': None}\n"
     ],
     "language": "python",
     "metadata": {},
     "outputs": [
      {
       "output_type": "stream",
       "stream": "stdout",
       "text": [
        "{'bootstrap': True, 'min_samples_leaf': 4, 'min_samples_split': 2, 'criterion': 'entropy', 'max_features': 8, 'max_depth': None}\n"
       ]
      }
     ],
     "prompt_number": 23
    },
    {
     "cell_type": "code",
     "collapsed": false,
     "input": [
      "CV_rfc.grid_scores_"
     ],
     "language": "python",
     "metadata": {},
     "outputs": [
      {
       "metadata": {},
       "output_type": "pyout",
       "prompt_number": 24,
       "text": [
        "[mean: 0.78210, std: 0.01099, params: {'bootstrap': False, 'min_samples_leaf': 9, 'min_samples_split': 1, 'criterion': 'entropy', 'max_features': 5, 'max_depth': 3},\n",
        " mean: 0.78058, std: 0.01411, params: {'bootstrap': True, 'min_samples_leaf': 6, 'min_samples_split': 8, 'criterion': 'gini', 'max_features': 8, 'max_depth': 3},\n",
        " mean: 0.76025, std: 0.01719, params: {'bootstrap': False, 'min_samples_leaf': 3, 'min_samples_split': 8, 'criterion': 'entropy', 'max_features': 1, 'max_depth': 3},\n",
        " mean: 0.81919, std: 0.00768, params: {'bootstrap': True, 'min_samples_leaf': 5, 'min_samples_split': 5, 'criterion': 'gini', 'max_features': 9, 'max_depth': None},\n",
        " mean: 0.78044, std: 0.01088, params: {'bootstrap': False, 'min_samples_leaf': 8, 'min_samples_split': 9, 'criterion': 'gini', 'max_features': 6, 'max_depth': 3},\n",
        " mean: 0.78055, std: 0.01142, params: {'bootstrap': False, 'min_samples_leaf': 10, 'min_samples_split': 10, 'criterion': 'gini', 'max_features': 8, 'max_depth': 3},\n",
        " mean: 0.77076, std: 0.01345, params: {'bootstrap': False, 'min_samples_leaf': 1, 'min_samples_split': 10, 'criterion': 'gini', 'max_features': 2, 'max_depth': 3},\n",
        " mean: 0.82063, std: 0.00796, params: {'bootstrap': True, 'min_samples_leaf': 4, 'min_samples_split': 2, 'criterion': 'entropy', 'max_features': 8, 'max_depth': None},\n",
        " mean: 0.81234, std: 0.00855, params: {'bootstrap': False, 'min_samples_leaf': 6, 'min_samples_split': 6, 'criterion': 'gini', 'max_features': 6, 'max_depth': None},\n",
        " mean: 0.78545, std: 0.01236, params: {'bootstrap': True, 'min_samples_leaf': 9, 'min_samples_split': 10, 'criterion': 'entropy', 'max_features': 9, 'max_depth': 3},\n",
        " mean: 0.82053, std: 0.00799, params: {'bootstrap': True, 'min_samples_leaf': 7, 'min_samples_split': 9, 'criterion': 'entropy', 'max_features': 9, 'max_depth': None},\n",
        " mean: 0.78234, std: 0.00930, params: {'bootstrap': True, 'min_samples_leaf': 10, 'min_samples_split': 10, 'criterion': 'entropy', 'max_features': 6, 'max_depth': 3},\n",
        " mean: 0.81046, std: 0.00851, params: {'bootstrap': True, 'min_samples_leaf': 7, 'min_samples_split': 7, 'criterion': 'entropy', 'max_features': 5, 'max_depth': None},\n",
        " mean: 0.81122, std: 0.00785, params: {'bootstrap': True, 'min_samples_leaf': 8, 'min_samples_split': 3, 'criterion': 'gini', 'max_features': 6, 'max_depth': None},\n",
        " mean: 0.78351, std: 0.00921, params: {'bootstrap': True, 'min_samples_leaf': 6, 'min_samples_split': 7, 'criterion': 'entropy', 'max_features': 6, 'max_depth': 3},\n",
        " mean: 0.79858, std: 0.00860, params: {'bootstrap': True, 'min_samples_leaf': 4, 'min_samples_split': 3, 'criterion': 'gini', 'max_features': 2, 'max_depth': None},\n",
        " mean: 0.80049, std: 0.00821, params: {'bootstrap': True, 'min_samples_leaf': 7, 'min_samples_split': 1, 'criterion': 'gini', 'max_features': 3, 'max_depth': None},\n",
        " mean: 0.80963, std: 0.00768, params: {'bootstrap': True, 'min_samples_leaf': 7, 'min_samples_split': 8, 'criterion': 'entropy', 'max_features': 5, 'max_depth': None},\n",
        " mean: 0.80725, std: 0.00855, params: {'bootstrap': True, 'min_samples_leaf': 1, 'min_samples_split': 9, 'criterion': 'entropy', 'max_features': 6, 'max_depth': None},\n",
        " mean: 0.78004, std: 0.01134, params: {'bootstrap': True, 'min_samples_leaf': 9, 'min_samples_split': 9, 'criterion': 'gini', 'max_features': 6, 'max_depth': 3}]"
       ]
      }
     ],
     "prompt_number": 24
    },
    {
     "cell_type": "code",
     "collapsed": false,
     "input": [
      "gbc = GradientBoostingClassifier(n_estimators=100, learning_rate=1.0, max_depth=3, random_state=777)\n",
      "\n",
      "gbfit = gbc.fit(X_train, y_train)\n",
      "gbfit.score(X_test, y_test)\n",
      "\n"
     ],
     "language": "python",
     "metadata": {},
     "outputs": [
      {
       "metadata": {},
       "output_type": "pyout",
       "prompt_number": 26,
       "text": [
        "0.9607997895290713"
       ]
      }
     ],
     "prompt_number": 26
    },
    {
     "cell_type": "code",
     "collapsed": false,
     "input": [
      "param_dist_gbc = {\"learning_rate\": np.random.random_sample(1),\n",
      "              \"max_features\": sp_randint(1, 11),\n",
      "              \"n_estimators\": [20,50,100,200],\n",
      "              \"max_depth\": sp_randint(1, 11),\n",
      "              \"min_samples_leaf\": sp_randint(1, 11)}\n",
      "\n",
      "# run randomized search\n",
      "n_iter_search = 20\n",
      "\n",
      "CV_gbc = RandomizedSearchCV(gbc, param_distributions=param_dist_gbc,\n",
      "                                   n_iter=n_iter_search, scoring=\"roc_auc\")\n",
      "CV_gbc.fit(X_train, y_train)\n",
      "print CV_gbc.best_params_\n",
      "#{'max_features': 10, 'n_estimators': 200, 'learning_rate': 0.013609745065371048, 'max_depth': 6, 'min_samples_leaf': 6}"
     ],
     "language": "python",
     "metadata": {},
     "outputs": [
      {
       "output_type": "stream",
       "stream": "stdout",
       "text": [
        "{'max_features': 10, 'n_estimators': 200, 'learning_rate': 0.013609745065371048, 'max_depth': 6, 'min_samples_leaf': 6}\n"
       ]
      }
     ],
     "prompt_number": 34
    },
    {
     "cell_type": "code",
     "collapsed": false,
     "input": [
      "np.random.random_sample(1)"
     ],
     "language": "python",
     "metadata": {},
     "outputs": []
    },
    {
     "cell_type": "code",
     "collapsed": false,
     "input": [
      "infeil"
     ],
     "language": "python",
     "metadata": {},
     "outputs": []
    }
   ],
   "metadata": {}
  }
 ]
}